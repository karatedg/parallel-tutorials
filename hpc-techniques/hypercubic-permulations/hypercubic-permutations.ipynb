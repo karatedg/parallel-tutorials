{
 "cells": [
  {
   "cell_type": "markdown",
   "metadata": {},
   "source": [
    "# How to Get to Everyone"
   ]
  },
  {
   "cell_type": "markdown",
   "metadata": {},
   "source": [
    "Last meeting, SUCO hosted a panel with various GT faculty. During the panel, there was a little discussion on how you can collect attendance."
   ]
  },
  {
   "cell_type": "markdown",
   "metadata": {},
   "source": [
    "One way to do it is one by one, passing the attendance sheet around the room, one person at a time.\n",
    "\n",
    "Person -> Person -> Person -> Person -> Person -> ... -> Person\n",
    "\n",
    "This takes linear time, or O(n). This algorithm also makes use of people terribly, with between two to one people active at any given time.\n",
    "\n",
    "Person -> Person | Person - idle | Person - idle | Person -idle | ... | Person - idle"
   ]
  },
  {
   "cell_type": "markdown",
   "metadata": {},
   "source": [
    "Another suggestion on how to do attendance was by row. Each row would have an attendance sheet, passing it from one end to another, then the last person of each row will pass the attendance sheet forward, accumulating all the sheets in the first row for the SUCO president to tally.\n",
    "\n",
    "Person -> Person -> Person -> Person V\n",
    "\n",
    "Person -> Person -> Person -> Person V\n",
    "\n",
    "Person -> Person -> Person -> Person V\n",
    "\n",
    "Person -> Person -> Person -> Person V\n",
    "\n",
    "Person -> Person -> Person -> Person V\n",
    "\n",
    "Person -> Person -> Person -> Person V\n",
    "\n",
    "                                    SUCO president\n",
    "\n",
    "This algorithm takes two steps. First each row gathers the names of the row. Then the last person in the row passes the sheet forward. \n",
    "\n",
    "Gathering the names of the row can be done in parallel. This will take O(__total_people__ / __total_rows__) assuming each row has an equal number of people. If not, this step is bound by the row with the most people. Let us also assume people in the same row work faster together (as if they are one processor), so there is no communication overhead here.\n",
    "\n",
    "The next step takes O(__total_rows__). But, let's pretend people between rows are not as good at getting each other's attention so it takes a second for each pass to occur. This adds an additional part to the runtime that is tied to communication. Let's say O(__time_taken_to_get_someone_else's_attention__) * __total_rows__.**\n",
    "\n",
    "And so, the total time it takes to run this algorithm is O(__total_people__ / __total_rows__) + O(__total_rows__) + O(__time_taken_to_get_someone_else's_attention__) * __total_rows__.**\n",
    "\n",
    "**Further details about communication and HPC considerations for algorithms can be found on the internet or in future notebooks"
   ]
  },
  {
   "cell_type": "markdown",
   "metadata": {},
   "source": [
    "This algorithm definitely had more people involved at once compared to the first algorithm. But, there are many spots in the algorithm that could go wrong, like having too many people in one of the rows(load balancing issue), or having too many rows(communication takes over). These factors will slow the algorithm down (as well as any other parallel algorithm). \n",
    "\n",
    "But, there is another way to do attendance. Sarkar mentioned it briefly, but there is a way you can whittle the algorithm runtime to O(log(n)). He also mentioned that you'd have to rearrange yourselves into trees, and that is true, this algorithm will create a communication pattern that looks like a binary tree."
   ]
  },
  {
   "cell_type": "markdown",
   "metadata": {},
   "source": [
    "A binary tree* looks like this:\n",
    "\n",
    "![Binary tree for visual purposes](binary-tree.png)\n",
    "\n",
    "It is only here to give a first look at what's going on in this algorithm we're discussing. We're not going to chat about how to reverse a binary tree.\n",
    "\n",
    "*If you haven't heard of binary trees before, here's a comprehensive [guide](http://cslibrary.stanford.edu/110/BinaryTrees.html). This is way more than you need to know relative to what's being explained in this notebook, but it will help you in the future when it comes to devising algorithms. You'll also get a first look at this in CS 1332, or Data Structures and Algorithms."
   ]
  },
  {
   "cell_type": "markdown",
   "metadata": {},
   "source": [
    "The main thing to note from this visual is that each level has double the nodes than the previous one. This is exponential growth, specifically 2^n. Bad as an algorithm time, great for scaling parallel algorithms.\n"
   ]
  },
  {
   "cell_type": "markdown",
   "metadata": {},
   "source": [
    "Now, in our algorithm, we're going to have half the room write their name on individual sheets of paper. \n",
    "\n",
    "Then, in pairs, they will give their sheet of papers to someone who doesn't have one. They will merge the sheets of paper together, write their name on it, and in pairs, hand their sheets over to someone who still doesn't have one. \n",
    "\n",
    "Rinse and repeat until there is only one person with the merged sheet of paper. Realistically, paper can't be merged and this person will just end up with a pile of paper. (if you are trying to visualize this, the binary tree above is what it should look like)."
   ]
  },
  {
   "cell_type": "markdown",
   "metadata": {},
   "source": [
    "This algorithm still suffers from the case where eventually most people aren't doing anything (there are alternate algorithms that keep everyone occupied. To be discussed), but it takes only __log(n)__ rounds for the last person to receive the completed attendance sheet. Communication rounds scale with number of people rather than number of rows from the previous algorithm. We are able to consider each person their own processor and still have a faster algorithm than the row algorithm (discussed in a later notebook)."
   ]
  },
  {
   "cell_type": "markdown",
   "metadata": {},
   "source": [
    "### __The Details__"
   ]
  },
  {
   "cell_type": "markdown",
   "metadata": {},
   "source": [
    "The last section we gave a high level description of an algorithm. Now let's look into the details.\n",
    "\n",
    "We mentioned that people would be handing attendance sheets to other people such that each person who receives the sheets has two sheets. How do we coordinate that? For all we know, someone could receive three sheets of paper, or someone who should have received a paper is empty-handed. People who've already received a paper might also get involved in later rounds. It's very easy for this to devolve into chaos without any agreement on who receives from who.\n",
    "\n",
    "We could have everyone arrange themselves into a binary tree structure. But in a lecture hall that will result in a lot shuffling. Sometimes you don't have the luxury of shuffling people around."
   ]
  },
  {
   "cell_type": "markdown",
   "metadata": {},
   "source": [
    "Before we go into routing, try to think about how _you would coordinate people in receiving and sending papers_.\n",
    "\n",
    "Things to consider:\n",
    "- People don't have to be one and done. They can take part in later rounds.\n",
    "- People can recieve as many papers as they want, but do note that this might result in a bottleneck.\n",
    "- People can send as many papers as they want, but a person doing 4 sends will take longer than someone doing 2 sends\n",
    "- People can receive and send at the same time (or if you're doing rounds, same round).\n",
    "- The end goal here is for one person to end up with all the papers, but, we're not opposed to everyone receiving all the papers."
   ]
  },
  {
   "cell_type": "markdown",
   "metadata": {},
   "source": [
    "#### __Bit-fixing routing__"
   ]
  },
  {
   "cell_type": "markdown",
   "metadata": {},
   "source": [
    "Bit-fixing routing is quite the clever way of routing without any need for an external source to determine routes. With algorithms like the one we discussed, it enables a no-collisions way to work in tandem. (As a standalone means of routing there are flaws, but they are not present in what we're using it for). "
   ]
  },
  {
   "cell_type": "markdown",
   "metadata": {},
   "source": [
    "#### __Binary Numbers__"
   ]
  },
  {
   "cell_type": "markdown",
   "metadata": {},
   "source": [
    "Before we get into it, you're going to need to know what binary numbers are. They are key to this routing method. If you do, skip to the next section. \n",
    "\n",
    "You've likely been working in a base 10(aka. decimal) number system all your life. And you probably would have stayed in that system had you not decided to touch computers. But you did, so now we're going to give you an overview of binary numbers, or a base 2 number system."
   ]
  },
  {
   "cell_type": "markdown",
   "metadata": {},
   "source": [
    "__Number Bases__\n",
    "\n",
    "The base 10 system has 10 unique digits: 0, 1, 2, 3, 4, 5, 6, 7, 8, 9.\n",
    "\n",
    "Every single number in the decimal system is represented by some combination of these numbers. Sometimes there are multiple digits stuck together to represent numbers in the 10s or 1000s. \n",
    "\n",
    "Ex. 5, 39, 123\n",
    "\n",
    "You know what the above values are cause you've been exposed to this system since daycare. But why are these values the values that they are? Why is the 1 in 123 representative of 100 and not 1? "
   ]
  },
  {
   "cell_type": "markdown",
   "metadata": {},
   "source": [
    "__Translating numbers to base 10__\n",
    "\n",
    "Let's look at a number. What value do you think this is?\n",
    "\n",
    "11011010\n",
    "\n",
    "Without any knowledge of how bases work, you might interpret this as eleven million eleven thousand ten assuming it's base 10. But what if it wasn't base 10? This number could literally represent infinite other values. There's a base out there that interprets this as 1(base 11011010). In the computer world you can no longer assume every number you see is meant to be interpreted in base 10. \n",
    "\n",
    "What's truly fascinating is that depending on the base you interpret this number, you get different values. This is the goal of this section, to acquaint you with how to interpret numbers in other bases, as computer science will expose you to other base systems such as base 2 (binary), base 8 (octal), and base 16 (hexadecimal).\n",
    "\n",
    "Let's take the number and interpret it in base 10, 3, and 2.\n",
    "\n",
    "Base 10:\n",
    "\n",
    "11011010 -> eleven million eleven thousand ten.\n",
    "\n",
    "Why do we know this? Well if we number the position of each digit, starting with 0 for the right most position, and expand it as so:\n",
    "\n",
    "$$1 * 10^7 + 1 * 10^6 + 0 * 10^5 + 1 * 10^4 + 1 * 10^3 + 0 * 10^2 + 1 * 10^1 + 0 * 10^0 = 11011010$$\n",
    "\n",
    "$$10,000,000 + 1,000,000 + 0 + 10,000 + 1,000 + 0 + 10 + 0 = 11011010$$\n",
    "\n",
    "This doesn't really demonstrate the effect of bases as we default to interpreting things in base 10, so let's interpret the number in the base 3 system and translate it to base 10 so that we can understand its value:\n",
    "\n",
    "$$1 * 3^7 + 1 * 3^6 + 0 * 3^5 + 1 * 3^4 + 1 * 3^3 + 0 * 3^2 + 1 * 3^1 + 0 * 3^0 = 3027$$\n",
    "\n",
    "$$2187 + 729 + 0 + 81 + 9 + 0 + 3 + 0 = 3027$$\n",
    "\n",
    "Now let's interpret it as base 2 and translate it to base 10:\n",
    "\n",
    "$$1 * 2^7 + 1 * 2^6 + 0 * 2^5 + 1 * 2^4 + 1 * 2^3 + 0 * 2^2 + 1 * 2^1 + 0 * 2^0 = 218$$\n",
    "\n",
    "$$128 + 64 + 0 + 16 + 8 + 0 + 2 + 0 = 218$$"
   ]
  },
  {
   "cell_type": "markdown",
   "metadata": {},
   "source": [
    "If you want to translate a number to a non-base 10 system, the above concept stays the same. However, you must take care to translate the resulting values into the base you are translating to. Addition must also occur in the target base. To illustrate this, lets translate 11011010 from base 2 to base 3.\n",
    "\n",
    "$$1 * 2^7 + 1 * 2^6 + 0 * 2^5 + 1 * 2^4 + 1 * 2^3 + 0 * 2^2 + 1 * 2^1 + 0 * 2^0$$\n",
    "\n",
    "$$11202 + 2101 + 0 + 121 + 22 + 0 + 2 + 0$$\n",
    "\n",
    "$$22002$$\n",
    "\n",
    "If you translate this from base 3 to base 10, you'll get 218, which was the value we got from translating from base 2 to base 10."
   ]
  },
  {
   "cell_type": "markdown",
   "metadata": {},
   "source": [
    "__Translating numbers to base 2__\n",
    "\n",
    "In the previous example we only translated from lower bases to higher bases. What if we want to go from base 10 to base 2?\n",
    "\n",
    "Using the previous example, let's translate 218 from base 10 to base 2.\n",
    "\n",
    "There are multiple ways to calculate it, but we will calculate it as so:\n",
    "\n",
    "218 / 2 = 109 R0\n",
    "\n",
    "109 / 2 = 54 R1\n",
    "\n",
    "54 / 2 = 27 R0\n",
    "\n",
    "27 / 2 = 13 R1\n",
    "\n",
    "13 / 2 = 6 R1\n",
    "\n",
    "6 / 2 = 3 R0\n",
    "\n",
    "3 / 2 = 1 R1\n",
    "\n",
    "1 / 2 = 0 R1\n",
    "\n",
    "To sum the above, you divide the number by 2, record the remainder, then divide by 2 again and repeat this until you reach 0. Then, take the remainders, starting with the one for 0 and moving upwards, and line them in a row from left to right.\n",
    "\n",
    "With the above, you get 11011010, which was the number we translated 218 from base 2 to base 10.\n",
    "\n",
    "If you want to apply this to other bases, divide by the other base rather than 2.\n",
    "\n",
    "Now that we've gone over binary numbers, let us get to bit-fixing routing."
   ]
  },
  {
   "cell_type": "markdown",
   "metadata": {},
   "source": [
    "#### __Bit-Fixing Cont.__"
   ]
  },
  {
   "cell_type": "markdown",
   "metadata": {},
   "source": [
    "Before we get to bit-fixing, let's give every person(processor) an unique number. This identifier is referred to as the rank and is what we'll use to denote who communicates with who. \n",
    "\n",
    "For our example we'll have 8 people involved, and assigned them ranks as so:\n",
    "\n",
    "| 0 | 1 | 2 | 3 | 4 | 5 | 6 | 7 |\n",
    "\n",
    "These numbers are in base 10, but for bit-fixing, we'll translate them into binary:\n",
    "\n",
    "| 000 | 001 | 010 | 011 | 100 | 101 | 110 | 111 |\n",
    "\n",
    "You might notice that for ranks 0, 1, 2, and 3, we've left the left-most zeros in. This is all part of the plan."
   ]
  },
  {
   "cell_type": "markdown",
   "metadata": {},
   "source": [
    "Now, the algorithm. We're going to demonstrate bit-fixing with a packet that's to go from 000 to 111."
   ]
  },
  {
   "cell_type": "markdown",
   "metadata": {},
   "source": [
    "How will we get from 000 to 111? Numerically speaking, we flip every bit from 0 to 1. \n",
    "\n",
    "So, if we take it one step at a time:\n",
    "\n",
    "000 -> 100\n",
    "\n",
    "100 -> 110\n",
    "\n",
    "110 -> 111\n",
    "\n",
    "And there you go, that's the path the packet. We're going to send it from 000 -> 100 -> 110 -> 111 (0 -> 4 -> 6 -> 7)."
   ]
  },
  {
   "cell_type": "markdown",
   "metadata": {},
   "source": [
    "Changing the order of flipping simply reshuffles the order of these ranks and is also valid.\n",
    "\n",
    "What about from 101 to 001? In this case, only one bit differs, so we only need to flip that bit to get the rank to match.\n",
    "\n",
    "101 -> 001\n",
    "\n",
    "And that's the path. This packet will go from 101 -> 001 (5 -> 1)."
   ]
  },
  {
   "cell_type": "markdown",
   "metadata": {},
   "source": [
    "The steps for bit-fixing:\n",
    "\n",
    "- Determine the source and destination.\n",
    "\n",
    "- Note which bits differ in the source and destination ranks.\n",
    "\n",
    "- For each different position, flip the bit. That is now either an intermediate destination or destination. Flip bits until the rank you're flipping matches the destination rank."
   ]
  },
  {
   "cell_type": "markdown",
   "metadata": {},
   "source": [
    "__Exercises__\n",
    "\n",
    "What's the bit-fixing path for a packet that wants to go from rank 120 to 36?"
   ]
  },
  {
   "cell_type": "markdown",
   "metadata": {},
   "source": [
    "#### __Applying it to our algorithm for attendance__"
   ]
  },
  {
   "cell_type": "markdown",
   "metadata": {},
   "source": [
    "So, what's bit-fixing got to do with attendance? Well, if you don't care about destination (ie just want to send stuff around), you can use bit-fixing routing to coordinate processors such that after log2(n) rounds, everyone will have indirectly communicated with everyone.\n",
    "\n",
    "By indirectly communicated we mean that if a processor 0 did communication with processor 3 earlier, and is now communicating with you, you've indirectly communicated with processor 3.\n",
    "\n",
    "3 -> 0 -> you"
   ]
  },
  {
   "cell_type": "markdown",
   "metadata": {},
   "source": [
    "What we're going to do is have everyone flip their bits. One bit at a time, all at once. It will appear to devolve into chaos, but rest assured, it will make a pretty picture.\n",
    "\n",
    "For uniformity, we will go from left to right, like we did when we went from 000 to 111.\n",
    "\n",
    "If we have 8 people to do attendance for, then the first set of bit flips is as so:\n",
    "\n",
    "| 000 -> 100 | 001 -> 101 | 010 -> 110 | 011 -> 111 | 100 -> 000 | 101 -> 001 | 110 -> 010 | 111 -> 011 |\n",
    "\n",
    "So the first round the papers move around as so:\n",
    "\n",
    "| 0 -> 4 | 1 -> 5 | 2 -> 6 | 3 -> 7 | 4 -> 0 | 5 -> 1 | 6 -> 2 | 7 -> 3 |\n",
    "\n",
    "We're going to have each person effectively merge together the papers, so that each person has the names of two people, their own and the person who sent them a paper.\n",
    "\n",
    "Now we're going to flip the second bit of each rank to determine the next destination:\n",
    "\n",
    "| 100 -> 110 | 101 -> 111 | 110 -> 100 | 111 -> 101 | 000 -> 010 | 001 -> 011 | 010 -> 000 | 011 -> 001 |\n",
    "\n",
    "| 4 -> 6 | 5 -> 7 | 6 -> 4 | 7 -> 5 | 0 -> 2 | 1 -> 3 | 2 -> 0 | 3 -> 1 |\n",
    "\n",
    "We merge the papers together again, and now each person has the names of four people.\n",
    "\n",
    "We flip one last time:\n",
    "\n",
    "| 110 -> 111 | 111 -> 110 | 100 -> 101 | 101 -> 100 | 010 -> 011 | 011 -> 010 | 000 -> 001 | 001 -> 000 |\n",
    "\n",
    "| 6 -> 7 | 7 -> 6 | 4 -> 5 | 5 -> 4 | 2 -> 3 | 3 -> 2 | 0 -> 1 | 1 -> 0 |\n",
    "\n",
    "And once we merge the papers together, each person has everyone elses names. If we wanted to, we could make it so that with each round, half the people (lower or higher half) would get rid of their papers or stopped participating in the rounds. This way only one person ends with with all the names. And we would save a lot more paper.\n"
   ]
  },
  {
   "cell_type": "markdown",
   "metadata": {},
   "source": [
    "__What is this called?__\n",
    "\n",
    "The routing method is called bit-fixing, but when doing the above, you might here the term __hypercubic permutation__ thrown around (especially in the Intro to HPC class). From here on out, I will refer to it as __hypercubic permutations__  as well."
   ]
  },
  {
   "cell_type": "markdown",
   "metadata": {},
   "source": [
    "__Visualizing the above__"
   ]
  },
  {
   "cell_type": "markdown",
   "metadata": {},
   "source": [
    "The previous section threw a lot of random numbers at you, but if you map out the connections, you get this graph:"
   ]
  },
  {
   "cell_type": "markdown",
   "metadata": {},
   "source": [
    "![butterfly-network](butterfly-network.png)\n",
    "\n",
    "Ignore the straight lines. I could not find the image I was looking for, so I had to settle for a [butterfly network](https://en.wikipedia.org/wiki/Butterfly_network)."
   ]
  },
  {
   "cell_type": "markdown",
   "metadata": {},
   "source": [
    "Take a look at the lines between the left-most two columns. What do you notice?\n",
    "\n",
    "You might notice that each node in the first column only goes to one node in the second column. Same goes for the second and third column, and third and fourth column. No collisions. Which is great as each node will have about the same overhead for each round of sends and receives (this differs for different topologies, to be discussed later). Great for trying to send stuff all at once, as we're doing."
   ]
  },
  {
   "cell_type": "markdown",
   "metadata": {},
   "source": [
    "### __That's about it__\n",
    "\n",
    "This notebook is meant to introduce you to the topic of hypercubic permutations. If you're curious about the proofs and details behind it, there are some online resources.\n",
    "\n",
    "If this excites you, you should check out this Udacity [program](https://www.udacity.com/course/high-performance-computing--ud281) by our own advisor, Rich Vuduc."
   ]
  },
  {
   "cell_type": "markdown",
   "metadata": {},
   "source": [
    "#### __Other algorithms that use this sort of permutation__"
   ]
  },
  {
   "cell_type": "markdown",
   "metadata": {},
   "source": [
    "There are a lot of algorithms that take advantage of hypercubic permutations, like prefix sum (reduce), fast fourier transforms, broadcast (and the various comms)."
   ]
  },
  {
   "cell_type": "markdown",
   "metadata": {},
   "source": [
    "### __Try applying it to these problems__\n",
    "\n",
    "Implement the broadcast exercise in the parallelpy.ipynb with hypercubic permutations.\n",
    "\n",
    "How might the algorithms above apply hypercubic permutations? We said they do, but how?"
   ]
  },
  {
   "cell_type": "markdown",
   "metadata": {},
   "source": [
    "### __What's so special about hypercubic permutations?__"
   ]
  },
  {
   "cell_type": "markdown",
   "metadata": {},
   "source": [
    "When done on a [hypercube](https://en.wikipedia.org/wiki/Hypercube_internetwork_topology), all the ranks you get when bit-flipping are your neighbors. This means you can send to each of them without passing through any other processors. It's also designed such that the number of stops(including the destination) between two processors is the number of bits that differ. \n",
    "\n",
    "So processors 000 and 111 will result in three stops (0 -> 4 -> 6 -> 7).\n",
    "\n",
    "Unfortunately, hypercubes are little hard to implement in reality, so what people do is have an algorithm designed for hypercubes, and on a given cluster, embed a hypercube network over whatever network the cluster is arranged in. This is beyond this notebook, so we may discuss it in a future notebook."
   ]
  }
 ],
 "metadata": {
  "language_info": {
   "name": "python"
  },
  "orig_nbformat": 4
 },
 "nbformat": 4,
 "nbformat_minor": 2
}
