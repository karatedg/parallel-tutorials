{
  "cells": [
    {
      "cell_type": "markdown",
      "metadata": {
        "id": "ElTx6Bteb2WL"
      },
      "source": [
        "# Parallelism in Python\n"
      ]
    },
    {
      "cell_type": "markdown",
      "metadata": {
        "id": "ULnIiZGCb2WM"
      },
      "source": [
        "Original Author: J.R. Johansson (jrjohansson at gmail.com)\n",
        "\n",
        "The latest version of this [IPython notebook](http://ipython.org/notebook.html) lecture is available at [http://github.com/jrjohansson/scientific-python-lectures](http://github.com/jrjohansson/scientific-python-lectures).\n",
        "\n",
        "The other notebooks in this lecture series are indexed at [http://jrjohansson.github.io](http://jrjohansson.github.io)."
      ]
    },
    {
      "cell_type": "markdown",
      "metadata": {
        "id": "vY1bl6KGu_Vm"
      },
      "source": [
        "# Table of Contents\n",
        "\n",
        "[For the Georgia Tech Student](#for-the-georgia-tech-student)\n",
        "\n",
        "[What is parallelism?](#what-is-parallelism)\n",
        "\n",
        "- [What isn't parallelism](#what-isnt-parallelism)\n",
        "\n",
        "- [Amdahl's Law](#amdahls-law)\n",
        "\n",
        "- [Bringing order to parallelism](#bringing-order-to-parallelism)\n",
        "\n",
        "- [Sharing is caring](#sharing-is-caring)\n",
        "\n",
        "[HPC Tools](#hpc-tools)\n",
        "\n",
        "- [multiprocessing](#multiprocessing)\n",
        "\n",
        "- [ipyparallel](#ipyparallel)\n",
        "\n",
        "- [MPI](#mpi)\n",
        "\n",
        "- [OpenMP](#openmp)\n",
        "\n",
        "- [OpenCL](#opencl)"
      ]
    },
    {
      "cell_type": "markdown",
      "metadata": {
        "id": "CUn_q0RXu_Vm"
      },
      "source": [
        "# For the Georgia Tech Student\n",
        "\n",
        "There are classes at GT that cover concepts that are useful for understanding parallel programming. They are listed in this section. For those not at GT, the title is included so you can probably find an equivalent."
      ]
    },
    {
      "cell_type": "markdown",
      "metadata": {
        "id": "a0zw8UBru_Vn"
      },
      "source": [
        "__CS 2110 - Computer Organization and Programming__\n",
        "- Covers everything from transisters to C.\n",
        "\n",
        "__CS 2200 - An Introduction to Computer Systems and Networks__\n",
        "- Goes into some detail about computer architecture and concurrency.\n",
        "\n",
        "__ECE 3058 - Architecture, Systems, Concurrency and Energy in Computation__\n",
        "- Introduces students to computer architecture such as the core, memory hierarchy, and the I/O subsystem.\n",
        "\n",
        "__ECE 4100/6100 / CS 4290/6290 - Advanced Computer Organization__\n",
        "- Covers techiniques used in computer architecture to improve performance (ex. branch prediction, caches...).\n",
        "\n",
        "__CX 4220 / CSE 6220 - Introduction to High Performance Computing__\n",
        "- Covers various parallel algorithms.\n",
        "\n",
        "*Details on availability and prerequisites can be found on OSCAR.\n",
        "\n",
        "#### VIPs that involved HPC\n",
        "\n",
        "[Team Phoenix-Cluster Competition Team (HPC)](https://www.vip.gatech.edu/teams/vwp)"
      ]
    },
    {
      "cell_type": "markdown",
      "metadata": {
        "id": "CDUQO0_Ou_Vn"
      },
      "source": [
        "#  What is parallelism?\n",
        "\n",
        "Before we get into the tools that enable parallelism, let's look at what it is and what sorts of parallelism are out there.\n",
        "\n",
        "Note: [this](https://hpc.llnl.gov/documentation/tutorials/introduction-parallel-computing-tutorial) is a pretty good resource for an image oriented explaination of parallelism, but it will go into much more detail than we will(getting to the architectural level you don't need to immediately know to try out parallel programming)."
      ]
    },
    {
      "cell_type": "markdown",
      "metadata": {
        "id": "DJclruOWu_Vn"
      },
      "source": [
        "### What isn't parallelism\n",
        "\n",
        "Any code that isn't parallel is considered serial. That's the code you're making in most computer science classes. Classes like CS 2110, CS 2200 (maybe CS 2340 if you get fancy with your project) include some threading, but that's only one of many ways to parallelize your code.\n",
        "\n",
        "Serial programs only execute one line at a time at only one place at a time. No multitasking going on here. While that may be fine if you're trying to print hello world once, but what if you want to print it 10 times and your computer is extremely slow?"
      ]
    },
    {
      "cell_type": "code",
      "execution_count": 1,
      "metadata": {
        "id": "02CawseJu_Vn"
      },
      "outputs": [],
      "source": [
        "# load in tools for this section\n",
        "from multiprocessing.pool import ThreadPool as Pool # change this to pool once finished developing for the colab\n",
        "import time"
      ]
    },
    {
      "cell_type": "code",
      "execution_count": 2,
      "metadata": {
        "id": "GsrQW8vKu_Vo",
        "outputId": "d45f7fae-3aa2-45c4-a609-b60a8f871984",
        "colab": {
          "base_uri": "https://localhost:8080/"
        }
      },
      "outputs": [
        {
          "output_type": "stream",
          "name": "stdout",
          "text": [
            "0: hello world\n",
            "1: hello world\n",
            "2: hello world\n",
            "3: hello world\n",
            "4: hello world\n",
            "5: hello world\n",
            "6: hello world\n",
            "7: hello world\n",
            "8: hello world\n",
            "9: hello world\n"
          ]
        }
      ],
      "source": [
        "for i in range(10):\n",
        "  time.sleep(1);\n",
        "  print(\"%d: hello world\" % i)"
      ]
    },
    {
      "cell_type": "markdown",
      "metadata": {
        "id": "0TdL3rORu_Vo"
      },
      "source": [
        "That was really slow. Now imagine doing that 100 or 1000 times. Apply this logic to problems that take in thousands of inputs, and you're looking at a really slow program that could take weeks to run.\n",
        "\n",
        "That's where parallelism comes in. With some tricks and division of labor, that program could run in an hour.\n",
        "\n",
        "Continuing from the previous example, this can be parallelized like so:"
      ]
    },
    {
      "cell_type": "code",
      "execution_count": 5,
      "metadata": {
        "id": "_SX7lu4_u_Vo",
        "outputId": "4c57e94b-7785-44b0-b3ed-38b988a362de",
        "colab": {
          "base_uri": "https://localhost:8080/"
        }
      },
      "outputs": [
        {
          "output_type": "stream",
          "name": "stdout",
          "text": [
            "hello, I am number 4\n",
            "hello, I am number 5\n",
            "hello, I am number 2hello, I am number 6\n",
            "hello, I am number 3\n",
            "hello, I am number 8\n",
            "hello, I am number 9\n",
            "hello, I am number 1\n",
            "hello, I am number 7\n",
            "\n",
            "hello, I am number 0\n"
          ]
        }
      ],
      "source": [
        "def say_hello(num):\n",
        "  time.sleep(1)\n",
        "  print(\"hello, I am number %d\" % num)\n",
        "num_processes = 10\n",
        "num_tasks = 10\n",
        "with Pool(processes=num_processes) as pool:\n",
        "  pool.map(say_hello, range(num_tasks))"
      ]
    },
    {
      "cell_type": "markdown",
      "metadata": {
        "id": "3aI45HIku_Vo"
      },
      "source": [
        "That went much faster. You might also notice that the numbers are no longer in order. This is a side effect of parallelism. When you split up tasks into separate processes, each process is now focused on executing that task. It doesn't know nor care about what the other processes are doing (you can change this with techniques discussed later). Order is no longer guaranteed, and this factors into how scientists design algorithms in parallel.\n",
        "\n",
        "What did that program do that made it so much faster?\n",
        "\n",
        "First, we defined a Pool of ten processes. In our favorite analogy of the final exam, we've essentially now got ten students working on the same exam. Then we told the pool to map the function __say_hello__ to the integers between 0 and 10. This is equivalent to students deciding who should work on which question. And once the tasks are assigned, the processes are off to complete their work. Due to the fact we are printing to a single terminal, all the results are printed there. Since there may be minute differences in timing, processes finish at different times, resulting in different orders every time(and sometimes odd formatting). For the final exam, it's like if the students stacked their answers in one pile in order of completion with no regard to order, leaving the professor to sort out the work later in serial fashion.\n",
        "\n",
        "You may notice that the program maps one task to each process. This is possible because we have an equal number of tasks and processes. Try changing the __num_processes__ and __num_tasks__ values and see how that affects how long it takes the program to run."
      ]
    },
    {
      "cell_type": "markdown",
      "metadata": {
        "id": "sd2YUUniu_Vp"
      },
      "source": [
        "### Amdahl's Law"
      ]
    },
    {
      "cell_type": "markdown",
      "metadata": {
        "id": "9K2x3TYpu_Vp"
      },
      "source": [
        "If you toyed around with the previous example, you might noticed that the runtimes change. Not just that, you might notice that as you add more processors, the time decreases less and less, to the point there is no decrease in time (when __num_processes__ > __num_tasks__).\n",
        "\n",
        "This phenomenon can be summated by Amdahl's law, which notes that the max speedup gained reducing the time spent is parallel is limited by the sequential portion of the code. In the previous example, the sequential part was negligable, but what if the code was written like so:"
      ]
    },
    {
      "cell_type": "code",
      "execution_count": 6,
      "metadata": {
        "id": "IZXPLQPWu_Vp",
        "outputId": "79b8bc5c-eabb-41fc-f1b2-e1f6d1ffc530",
        "colab": {
          "base_uri": "https://localhost:8080/"
        }
      },
      "outputs": [
        {
          "output_type": "stream",
          "name": "stdout",
          "text": [
            "hello, I am number 9hello, I am number 0\n",
            "hello, I am number 2\n",
            "\n",
            "hello, I am number 8\n",
            "hello, I am number 1\n",
            "hello, I am number 6\n",
            "hello, I am number 5\n",
            "hello, I am number 3\n",
            "hello, I am number 4\n",
            "hello, I am number 7\n"
          ]
        }
      ],
      "source": [
        "num_processes = 10\n",
        "num_tasks = 10\n",
        "time.sleep(5)\n",
        "with Pool(processes=num_processes) as pool:\n",
        "  pool.map(say_hello, range(num_tasks))"
      ]
    },
    {
      "cell_type": "markdown",
      "metadata": {
        "id": "hURa-q34u_Vp"
      },
      "source": [
        "Now, if you adjust __num_processes__ and __num_tasks__, you might notice that no matter what, the function takes at least 6 seconds. Let's get into the math of it.\n",
        "\n",
        "Amdahl's Law isn't just there to tell you you can't get infinite speed up with the magic of parallelization: it's also an equation that can tell you how much you reduced your program's running time.\n",
        "\n",
        "The equation can be described as so:\n",
        "\n",
        "$$S = \\frac{1}{(1-p) + \\frac{p}{N}}$$\n",
        "\n",
        "where p is the fraction of the code that is parallelizable and N is the speedup resulted from parallel magic (in our example it is essentially the number of processes, __num_processes__)"
      ]
    },
    {
      "cell_type": "markdown",
      "metadata": {
        "id": "EoaKj96iu_Vp"
      },
      "source": [
        "Now, let's apply it to our case.\n",
        "\n",
        "With the addition of __sleep(5)__, the runtime of serial version of the code would take 15 seconds (5s + 1s per number).\n",
        "\n",
        "The part of the code that we can parallelize is the for loop, which took 10s to run. So _p_ is calculated as so:\n",
        "\n",
        "$$p = \\frac{10}{15} = \\frac{2}{3} = 0.666...$$\n",
        "\n",
        "The next part to calculate is _N_. In our case _N_ is simply __num_processes__. Let's say _N_ is 5. Plugging _p_ and _N_ into the function, you get\n",
        "\n",
        "$$S = \\frac{1}{(1-0.6666) + \\frac{0.6666}{5}} = 2\\frac{1}{7}$$\n",
        "\n",
        "When you run the code with __num_processes__ as 5 and __num_tasks__ as 10, this section takes 2s. With the initial 5s from the __sleep()__ function, that adds up to 7s. The initial function took 15s. Amdahl's law stated that with 5 processes, the speed up would be just around 2, and if you divide 15 by 7, you get the same value.\n",
        "\n",
        "*Note our example has a clear bottom, which is when each process gets 1 task. And so Amdahl's law might act funny as you add more processors. After all, how can you further divide up a single task?\n",
        "\n",
        "Below is an image of Amdahl's law visualized."
      ]
    },
    {
      "cell_type": "markdown",
      "metadata": {
        "id": "37kZ7VU2u_Vp"
      },
      "source": [
        "![Amdahl's Law visualized](https://github.com/karatedg/parallel-tutorials/blob/main/parallelism-in-python/amdahls_law.png?raw=1)"
      ]
    },
    {
      "cell_type": "markdown",
      "metadata": {
        "id": "r3djkK-8u_Vp"
      },
      "source": [
        "#### __Exercise__: Try calculating the speed up for when __num_processes__ is 10. 3? 2? Infinity?"
      ]
    },
    {
      "cell_type": "markdown",
      "metadata": {
        "id": "z1F6ApCYu_Vp"
      },
      "source": [
        "Now that we've looked at the limits of parallelization/optimization, let's get back to the hello world program and see how we can get it to print in order."
      ]
    },
    {
      "cell_type": "markdown",
      "metadata": {
        "id": "wpDHm3nsu_Vp"
      },
      "source": [
        "### Bringing order to parallelism"
      ]
    },
    {
      "cell_type": "markdown",
      "metadata": {
        "id": "5Jif30DPu_Vq"
      },
      "source": [
        "In the previous section you parallelized a simple hello world program. Then you looked at the limitations of parallelization. While it would print \"hello world\" faster, it didn't do it in order. Luckily, there are ways you can control the order processors finish their work. You can also make them stop at the same point.\n",
        "\n",
        "But note that just because you can doesn't mean you should. The more you try to control when programs stop and keep them in order, the more overhead there is for you and the less the computers are computing. For certain problems, like a 2D simulation, it's unavoidable.\n",
        "\n",
        "Let's take a quick look at threads and processes and their differences."
      ]
    },
    {
      "cell_type": "markdown",
      "metadata": {
        "id": "tF60RAuZu_Vq"
      },
      "source": [
        "Threads and processes are very similar in if you have a group of them, they can each execute their own code at the same time and independently of each other(i.e. they have their own call stack), but that's about it for similarities.\n",
        "\n",
        "Processes can spawn threads. Threads cannot spawn processes (maybe other threads, but that's not recommended). If you wanted to, you could do \"double\" parallelism, where you split work up between processors/processes, and within each one have the work split up between threads.\n",
        "\n",
        "Processes have their own memory and data. Threads are able to share memory and data between each other. Because of this difference, programming with threads and with processes require different techniques.\n",
        "\n",
        "In the following sections we will discuss how you can synchronize your programs and share data between them."
      ]
    },
    {
      "cell_type": "markdown",
      "metadata": {
        "id": "4EwyaME7u_Vq"
      },
      "source": [
        "### Synchronization"
      ]
    },
    {
      "cell_type": "markdown",
      "metadata": {
        "id": "mXafboKAu_Vq"
      },
      "source": [
        "#### Barriers"
      ]
    },
    {
      "cell_type": "markdown",
      "metadata": {
        "id": "LUP58yDwu_Vq"
      },
      "source": [
        "Processes have no connection with each other. They have their own resources and call stack. And so, if they want to stop at the same place, each of them must call the same function. In MPI, it's referred to as __MPI_Barrier__. The function takes in a [communicator](https://mpitutorial.com/tutorials/introduction-to-groups-and-communicators/). When the function is called, the processor is blocked at that point until every process in the communicator calls the function as well. This guarantees that once this function is lifted, your processes are in the same place.\n",
        "\n",
        "Threads can also use barriers to synchronize. Below is an example with threads."
      ]
    },
    {
      "cell_type": "code",
      "execution_count": 10,
      "metadata": {
        "id": "RzbIyVDNu_Vq",
        "outputId": "501c3391-9e2b-4244-ac6d-4bf1a2aac19a",
        "colab": {
          "base_uri": "https://localhost:8080/"
        }
      },
      "outputs": [
        {
          "output_type": "stream",
          "name": "stdout",
          "text": [
            "Thread 0 has reached the barrier at time Wed Sep 13 23:09:36 2023.\n",
            "Thread 1 has reached the barrier at time Wed Sep 13 23:09:37 2023.\n",
            "Thread 2 has reached the barrier at time Wed Sep 13 23:09:38 2023.\n",
            "Thread 3 has reached the barrier at time Wed Sep 13 23:09:39 2023.\n",
            "Thread 3 has gotten past the barrier at time Wed Sep 13 23:09:39 2023.\n",
            "Thread 1 has gotten past the barrier at time Wed Sep 13 23:09:39 2023.\n",
            "Thread 0 has gotten past the barrier at time Wed Sep 13 23:09:39 2023.\n",
            "Thread 2 has gotten past the barrier at time Wed Sep 13 23:09:39 2023.\n"
          ]
        }
      ],
      "source": [
        "from threading import Barrier, Thread\n",
        "from time import sleep, ctime\n",
        "\n",
        "num_threads = 4\n",
        "b = Barrier(4) # set up barrier. This barrier will only let up if 4 threads call b.wait()\n",
        "\n",
        "def task(num):\n",
        "    sleep(num)\n",
        "    print(\"Thread %d has reached the barrier at time %s.\" % (num, ctime()))\n",
        "    b.wait()\n",
        "    print(\"Thread %d has gotten past the barrier at time %s.\" % (num, ctime()))\n",
        "\n",
        "threads = []\n",
        "for i in range(num_threads):\n",
        "    threads.append(Thread(target=task, args=(i,)))\n",
        "    threads[-1].start() # start the thread in the back of the array\n",
        "\n",
        "# bring all the threads together, effectively ending them\n",
        "for thread in threads:\n",
        "    thread.join()\n",
        "\n",
        "# modified from https://www.tutorialspoint.com/barrier-objects-in-python"
      ]
    },
    {
      "cell_type": "markdown",
      "metadata": {
        "id": "TuyOMZuru_Vq"
      },
      "source": [
        "Try adjusting __num_threads__(3, 8, 7 are some nice numbers) and see what happens. Why does the program stall when you set __num_threads__ to 3 or 7?"
      ]
    },
    {
      "cell_type": "markdown",
      "metadata": {
        "id": "4W1RNmn-u_Vq"
      },
      "source": [
        "#### Join"
      ]
    },
    {
      "cell_type": "markdown",
      "metadata": {
        "id": "kXv7ro5_u_Vq"
      },
      "source": [
        "In the barrier example you might have noticed that at the end of the code, __threads__ joins all the threads together. __join()__ is used by the main program (in this case through __threads__) to stall the main program until the specific thread is finished execution. So if that thread ends up in an infinite loop and __join()__ is called, the program will never end.\n",
        "\n",
        "In a sense, it kills off the threads(they can always be started with __start()__), but if you start respawning threads after joining all the threads, you'll be starting at the same point of execution. __join()__ is good for ensuring that a thread is finished by a certain point before the main program does more work."
      ]
    },
    {
      "cell_type": "markdown",
      "metadata": {
        "id": "5BnhIoq8u_Vq"
      },
      "source": [
        "![thread-diagram](https://github.com/karatedg/parallel-tutorials/blob/main/parallelism-in-python/thread-diagram.png?raw=1)"
      ]
    },
    {
      "cell_type": "markdown",
      "metadata": {
        "id": "TUbV3N3bu_Vr"
      },
      "source": [
        "[Source](https://www.cs.csustan.edu/~john/Classes/CS3750/Notes/Chap04/04_Threads.html) - Also features a lot of details about threads\n",
        "\n",
        "Note: __fork()__ is often the function used to create a thread in other threading frameworks"
      ]
    },
    {
      "cell_type": "markdown",
      "metadata": {
        "id": "XBMOJueHu_Vr"
      },
      "source": [
        "### Sharing is caring"
      ]
    },
    {
      "cell_type": "markdown",
      "metadata": {
        "id": "7n7_BzCcu_Vr"
      },
      "source": [
        "In previous examples we had programs that had processes execute their task without the help/data of any other program. These sort of problems are known as embarrassingly parallel. They're easy to parallelize (simple pooling or any way of creating threads of execution). Unfortunately, most problems are not like that. Often times problems need shared variables to be able to track booleans. Or a process might need data from another process."
      ]
    },
    {
      "cell_type": "markdown",
      "metadata": {
        "id": "dKClMb8vu_Vr"
      },
      "source": [
        "#### Shared memory"
      ]
    },
    {
      "cell_type": "markdown",
      "metadata": {
        "id": "EXa2bhahu_Vr"
      },
      "source": [
        "Because threads are part of the same process, they share the same global variables and [heap memory](https://stackoverflow.com/questions/79923/what-and-where-are-the-stack-and-heap)(if you don't know what this is, you don't need to for this tutorial). But, like siblings, if two threads want the same variable at the same time, conflict ensues. If multiple threads are trying to edit or read the same variable, then wonky behavior can occur. This is a data race. We don't like those."
      ]
    },
    {
      "cell_type": "markdown",
      "metadata": {
        "id": "9Bymt5p9u_Vr"
      },
      "source": [
        "#### Locks"
      ]
    },
    {
      "cell_type": "markdown",
      "metadata": {
        "id": "zKWtkl96u_Vr"
      },
      "source": [
        "Locks are a way to ensure that a section of code is access by only one thread. Common uses include writing to a shared variable, such as updating a state. Another thing may be accesses to data to prevent data races when reading and writing."
      ]
    },
    {
      "cell_type": "code",
      "execution_count": 11,
      "metadata": {
        "id": "9Zymodkgu_Vr",
        "outputId": "e13a765a-f5da-4c32-89d3-be885ca766f8",
        "colab": {
          "base_uri": "https://localhost:8080/"
        }
      },
      "outputs": [
        {
          "output_type": "stream",
          "name": "stdout",
          "text": [
            "0 is done their task\n",
            "1 is done their task\n",
            "2 is done their task\n",
            "3 is done their task\n",
            "0, 1, 2, 3, \n"
          ]
        }
      ],
      "source": [
        "from threading import Thread, Lock\n",
        "import time\n",
        "\n",
        "lock = Lock()\n",
        "\n",
        "attendance = \"\"\n",
        "\n",
        "def task(name):\n",
        "    global attendance\n",
        "\n",
        "    with lock:\n",
        "        time.sleep(1)\n",
        "        attendance += \"%s, \" % name\n",
        "\n",
        "    print(\"%s is done their task\" % name)\n",
        "\n",
        "num_threads = 4\n",
        "threads = []\n",
        "for i in range(num_threads):\n",
        "    threads.append(Thread(target=task, args=(i,)))\n",
        "    threads[-1].start() # start the thread in the back of the array\n",
        "\n",
        "# bring all the threads together, effectively ending them\n",
        "for thread in threads:\n",
        "    thread.join()\n",
        "\n",
        "print(attendance)"
      ]
    },
    {
      "cell_type": "markdown",
      "metadata": {
        "id": "cMdblTkHu_Vr"
      },
      "source": [
        "As you can see above, the lock forced threads to wait their turn until they could get the lock. Without the lock, the threads would all try to write to __attendance__ at the same time and chaos would ensue.\n",
        "\n",
        "The above was only one kind of lock. There are many, many other kinds of locks (ex. spinlock, semaphore) that we will not go into. You'll learn more about them in CS 2200 and CS 3210.\n",
        "\n",
        "Threads need locks to prevent conflicts. Processors on the other hand have no conflict. They cannot share data unless you specify it with communication."
      ]
    },
    {
      "cell_type": "markdown",
      "metadata": {
        "id": "P8YWjjOHu_Vr"
      },
      "source": [
        "#### Communication"
      ]
    },
    {
      "cell_type": "markdown",
      "metadata": {
        "id": "q5oK-qsNu_Vr"
      },
      "source": [
        "Processes don't share data, so they have no idea what other processes have. However, through communication, data can be passed between processors.\n",
        "\n",
        "For many machines, they use the message passing interface (MPI) to communicate with each other. Luckily, MPI is heavy in communication so examples can be found [here](#mpi). We will discuss what various communication primatives do in this section."
      ]
    },
    {
      "cell_type": "markdown",
      "metadata": {
        "id": "lVfzvg9du_Vr"
      },
      "source": [
        "# HPC Tools"
      ]
    },
    {
      "cell_type": "code",
      "execution_count": 12,
      "metadata": {
        "id": "ZM3eo-_qb2WN"
      },
      "outputs": [],
      "source": [
        "# Load in libraries to plots graph in preparation for the next few sections\n",
        "%matplotlib inline\n",
        "import matplotlib.pyplot as plt"
      ]
    },
    {
      "cell_type": "markdown",
      "metadata": {
        "id": "XgGncaFpb2WO"
      },
      "source": [
        "## multiprocessing"
      ]
    },
    {
      "cell_type": "markdown",
      "metadata": {
        "id": "4ht0kCVYb2WO"
      },
      "source": [
        "Python has a built-in process-based library for concurrent computing, called `multiprocessing`. Further documentation can be found [here](https://docs.python.org/3/library/multiprocessing.html)\n",
        "\n",
        "The multiprocessing module is versatile and allows you to program in thread-like and message passing model ways."
      ]
    },
    {
      "cell_type": "markdown",
      "metadata": {
        "id": "sRwUpSsHu_Vs"
      },
      "source": [
        "### Pool\n",
        "Pool is a simple way to create a group of processes that you can offload tasks to."
      ]
    },
    {
      "cell_type": "code",
      "execution_count": 13,
      "metadata": {
        "id": "NV-xYPkfb2WO"
      },
      "outputs": [],
      "source": [
        "from multiprocessing.pool import ThreadPool as Pool\n",
        "import os\n",
        "import time\n",
        "import numpy"
      ]
    },
    {
      "cell_type": "code",
      "execution_count": 14,
      "metadata": {
        "id": "qvGzNTL1b2WO"
      },
      "outputs": [],
      "source": [
        "def task(args):\n",
        "    print(\"PID =\", os.getpid(), \", args =\", args)\n",
        "\n",
        "    return os.getpid(), args"
      ]
    },
    {
      "cell_type": "code",
      "execution_count": 15,
      "metadata": {
        "id": "R-cSn9drb2WO",
        "outputId": "e778b19a-ff97-4a72-dfda-c766eba256f2",
        "colab": {
          "base_uri": "https://localhost:8080/"
        }
      },
      "outputs": [
        {
          "output_type": "stream",
          "name": "stdout",
          "text": [
            "PID = 392 , args = test\n"
          ]
        },
        {
          "output_type": "execute_result",
          "data": {
            "text/plain": [
              "(392, 'test')"
            ]
          },
          "metadata": {},
          "execution_count": 15
        }
      ],
      "source": [
        "task(\"test\")"
      ]
    },
    {
      "cell_type": "code",
      "execution_count": 16,
      "metadata": {
        "id": "oZEq5ql-b2WP"
      },
      "outputs": [],
      "source": [
        "pool = Pool(processes=4)"
      ]
    },
    {
      "cell_type": "code",
      "execution_count": 17,
      "metadata": {
        "id": "TyOGBY1Sb2WP",
        "outputId": "c757201f-cdb1-44ae-a360-7f8274842925",
        "colab": {
          "base_uri": "https://localhost:8080/"
        }
      },
      "outputs": [
        {
          "output_type": "stream",
          "name": "stdout",
          "text": [
            "PID = 392 , args = 1\n",
            "PID = 392 , args = 2\n",
            "PID = 392 , args = 3\n",
            "PID = 392 , args = 4\n",
            "PID = 392 , args = 5\n",
            "PID = 392 , args = 6\n",
            "PID = 392 , args = 7\n",
            "PID = 392 , args = 8\n"
          ]
        }
      ],
      "source": [
        "result = pool.map(task, [1, 2, 3, 4, 5, 6, 7, 8])"
      ]
    },
    {
      "cell_type": "markdown",
      "metadata": {
        "id": "IFYjlBmBb2WQ"
      },
      "source": [
        "The multiprocessing package is very useful for highly parallel tasks that do not need to communicate with each other, other than when sending the initial data to the pool of processes and when and collecting the results."
      ]
    },
    {
      "cell_type": "markdown",
      "metadata": {
        "id": "ilrdmnVIu_Vt"
      },
      "source": [
        "#### Vector Summation Exercise"
      ]
    },
    {
      "cell_type": "markdown",
      "metadata": {
        "id": "rtrj_z5fu_Vt"
      },
      "source": [
        "In the multiprocessing pool example, only one argument was passed into each task. How might you go about passing in two separate values(or a group of values as one)? Try your hand at it with a parallel vector summation."
      ]
    },
    {
      "cell_type": "code",
      "execution_count": 20,
      "metadata": {
        "id": "zske7ildu_Vt",
        "outputId": "63486048-72a2-49ac-ff8f-40eaa025d201",
        "colab": {
          "base_uri": "https://localhost:8080/"
        }
      },
      "outputs": [
        {
          "output_type": "execute_result",
          "data": {
            "text/plain": [
              "[1]"
            ]
          },
          "metadata": {},
          "execution_count": 20
        }
      ],
      "source": [
        "vector1 = [1, 2, 3, 4, 5, 6, 7, 8, 9]\n",
        "vector2 = [9, 8, 7, 6, 5, 4, 3, 2, 1]\n",
        "\n",
        "def task(args):\n",
        "    # return val1 + val2\n",
        "    return 1\n",
        "\n",
        "result = pool.map(task, [0]) # pool comes from previous cells as in notebooks, variables declared in other cells remain persistent from that point onwards (until you reset the notebook)\n",
        "\n",
        "result # result should be [10, 10, 10, 10, 10, 10, 10, 10, 10]"
      ]
    },
    {
      "cell_type": "markdown",
      "metadata": {
        "id": "rd07JePsu_Vt"
      },
      "source": [
        "### multiprocessing starmap()"
      ]
    },
    {
      "cell_type": "markdown",
      "metadata": {
        "id": "nSMhLcggu_Vt"
      },
      "source": [
        "In the above exercise we made you pass in multiple arguments without having task() specify multiple arguments. If you want the task function to explicitly take in multiple arguments, you can use the starmap() function, which will take in an [iterable](https://python.cogsci.nl/basic/iterables/)(ess. lists, dicts, anything you might use be able to use a for-loop to loop through), but expect that the elements will be unpacked as arguments."
      ]
    },
    {
      "cell_type": "code",
      "execution_count": null,
      "metadata": {
        "id": "sAwC3BYCu_Vt"
      },
      "outputs": [],
      "source": [
        "zip_vectors = zip(vector1, vector2) # preparing an iterable for starmap"
      ]
    },
    {
      "cell_type": "code",
      "execution_count": null,
      "metadata": {
        "id": "uto1xro0u_Vt"
      },
      "outputs": [],
      "source": [
        "def task(arg1, arg2):\n",
        "    return arg1 + arg2"
      ]
    },
    {
      "cell_type": "code",
      "execution_count": null,
      "metadata": {
        "id": "g8e9VScFu_Vt"
      },
      "outputs": [],
      "source": [
        "result = pool.starmap(task, zip_vectors)"
      ]
    },
    {
      "cell_type": "code",
      "execution_count": null,
      "metadata": {
        "id": "aUZeXuMxu_Vu",
        "outputId": "46fd2335-4a15-4106-957e-7af799c727a0"
      },
      "outputs": [
        {
          "data": {
            "text/plain": [
              "[10, 10, 10, 10, 10, 10, 10, 10, 10]"
            ]
          },
          "execution_count": 13,
          "metadata": {},
          "output_type": "execute_result"
        }
      ],
      "source": [
        "result"
      ]
    },
    {
      "cell_type": "markdown",
      "metadata": {
        "id": "RCPodDaDu_Vu"
      },
      "source": [
        "#### Starmap exercise"
      ]
    },
    {
      "cell_type": "markdown",
      "metadata": {
        "id": "KplV3BeSu_Vu"
      },
      "source": [
        "To practice using the starmap(), try adding together three vectors at once."
      ]
    },
    {
      "cell_type": "code",
      "execution_count": null,
      "metadata": {
        "id": "s0l-yZMtu_Vu"
      },
      "outputs": [],
      "source": [
        "vector1 = [1, 2, 3, 4, 5, 6, 7, 8, 9]\n",
        "vector2 = [9, 8, 7, 6, 5, 4, 3, 2, 1]\n",
        "vector3 = [1, 2, 3, 4, 5, 6, 7, 8, 9]\n",
        "\n",
        "def task(nothing):\n",
        "    # return val1 + val2 + val3\n",
        "    return 1\n",
        "\n",
        "result = pool.starmap(task, 0)\n",
        "\n",
        "result # result should be [11, 12, 13, 14, 15, 16, 17, 18, 19]"
      ]
    },
    {
      "cell_type": "markdown",
      "metadata": {
        "id": "yEEzDNPDu_Vu"
      },
      "source": [
        "#### Further readings\n",
        "\n",
        "- https://docs.python.org/3/library/multiprocessing.html\n",
        "\n",
        "- https://superfastpython.com/multiprocessing-in-python/"
      ]
    },
    {
      "cell_type": "markdown",
      "metadata": {
        "id": "0Ng3Geo8b2WQ"
      },
      "source": [
        "## ipyparallel"
      ]
    },
    {
      "cell_type": "markdown",
      "metadata": {
        "id": "RoGNnKczb2WQ"
      },
      "source": [
        "IPython includes a very interesting and versatile parallel computing environment, which is very easy to use. It builds on the concept of ipython engines and controllers, that one can connect to and submit tasks to. To get started using this framework for parallel computing, one first have to start up an IPython cluster of engines. The easiest way to do this is to use the `ipcluster` command,\n",
        "\n",
        "    $ ipcluster start -n 4\n",
        "\n",
        "Or, alternatively, from the \"Clusters\" tab on the IPython notebook dashboard page. This will start 4 IPython engines on the current host, which is useful for multicore systems. It is also possible to setup IPython clusters that spans over many nodes in a computing cluster. For more information about possible use cases, see the official [documentation](https://ipyparallel.readthedocs.io/en/latest/).\n",
        "\n",
        "To use the IPython cluster in our Python programs or notebooks, we start by creating an instance of `ipyparallel.Cluster`:"
      ]
    },
    {
      "cell_type": "code",
      "execution_count": null,
      "metadata": {
        "id": "Yle2kW_1b2WQ"
      },
      "outputs": [],
      "source": [
        "import ipyparallel as ipp\n",
        "import numpy"
      ]
    },
    {
      "cell_type": "code",
      "execution_count": null,
      "metadata": {
        "id": "PaO25idgb2WQ"
      },
      "outputs": [],
      "source": [
        "cluster = ipp.Cluster()"
      ]
    },
    {
      "cell_type": "markdown",
      "metadata": {
        "id": "IqGG96MOb2WQ"
      },
      "source": [
        "By calling __connect_client()__ we can get the set of ids for the IPython engines in the cluster."
      ]
    },
    {
      "cell_type": "code",
      "execution_count": null,
      "metadata": {
        "id": "uQbzQ5dCb2WR"
      },
      "outputs": [],
      "source": [
        "engine_set_id = await cluster.start_cluster(n=4) # ess creates 4 processes that can do work\n",
        "\n",
        "rc = await cluster.connect_client()\n",
        "rc.wait_for_engines(4)\n",
        "rc.ids"
      ]
    },
    {
      "cell_type": "markdown",
      "metadata": {
        "id": "EgsM_n9Vb2WR"
      },
      "source": [
        "Each of these engines are ready to execute tasks. We can selectively run code on individual engines:"
      ]
    },
    {
      "cell_type": "code",
      "execution_count": null,
      "metadata": {
        "id": "zkIN8OkAb2WR"
      },
      "outputs": [],
      "source": [
        "def getpid():\n",
        "    \"\"\" return the unique ID of the current process \"\"\"\n",
        "    import os\n",
        "    return os.getpid()"
      ]
    },
    {
      "cell_type": "code",
      "execution_count": null,
      "metadata": {
        "id": "vPNlL7Czb2WR",
        "outputId": "18981fa0-bc85-44f3-860d-ab4f7ffbf6ad"
      },
      "outputs": [
        {
          "data": {
            "text/plain": [
              "31256"
            ]
          },
          "execution_count": 12,
          "metadata": {},
          "output_type": "execute_result"
        }
      ],
      "source": [
        "# first try it on the notebook process\n",
        "getpid()"
      ]
    },
    {
      "cell_type": "code",
      "execution_count": null,
      "metadata": {
        "id": "DE1Yle29b2WR",
        "outputId": "bff28289-43c6-4e90-ac71-a85a984505fc"
      },
      "outputs": [
        {
          "data": {
            "text/plain": [
              "37440"
            ]
          },
          "execution_count": 15,
          "metadata": {},
          "output_type": "execute_result"
        }
      ],
      "source": [
        "# run it on one of the engines\n",
        "rc[0].apply_sync(getpid)"
      ]
    },
    {
      "cell_type": "code",
      "execution_count": null,
      "metadata": {
        "id": "GtpOMu2fb2WR",
        "outputId": "7d557177-0b0b-452e-f8e8-400ec2defc22"
      },
      "outputs": [
        {
          "data": {
            "text/plain": [
              "[25500, 35608, 12272, 8200]"
            ]
          },
          "execution_count": 45,
          "metadata": {},
          "output_type": "execute_result"
        }
      ],
      "source": [
        "# run it on ALL of the engines at the same time\n",
        "rc[:].apply_sync(getpid)"
      ]
    },
    {
      "cell_type": "markdown",
      "metadata": {
        "id": "a7FqeseCb2WS"
      },
      "source": [
        "We can use this cluster of IPython engines to execute tasks in parallel. The easiest way to dispatch a function to different engines is to define the function with the decorator:\n",
        "\n",
        "    @view.parallel(block=True)\n",
        "\n",
        "Here, `view` is supposed to be the engine pool which we want to dispatch the function (task). Once our function is defined this way we can dispatch it to the engine using the `map` method in the resulting class (in Python, a decorator is a language construct which automatically wraps the function into another function or a class).\n",
        "\n",
        "To see how all this works, lets look at an example:"
      ]
    },
    {
      "cell_type": "code",
      "execution_count": null,
      "metadata": {
        "id": "4yiCs6MWb2WS"
      },
      "outputs": [],
      "source": [
        "dview = rc[:]"
      ]
    },
    {
      "cell_type": "code",
      "execution_count": null,
      "metadata": {
        "id": "oHsTP4PNb2WS"
      },
      "outputs": [],
      "source": [
        "@dview.parallel(block=True)\n",
        "def dummy_task(delay):\n",
        "    \"\"\" a dummy task that takes 'delay' seconds to finish \"\"\"\n",
        "    import os, time\n",
        "\n",
        "    t0 = time.time()\n",
        "    pid = os.getpid()\n",
        "    time.sleep(delay)\n",
        "    t1 = time.time()\n",
        "\n",
        "    return [pid, t0, t1]"
      ]
    },
    {
      "cell_type": "code",
      "execution_count": null,
      "metadata": {
        "id": "Ktpw3ss_b2WS"
      },
      "outputs": [],
      "source": [
        "# generate random delay times for dummy tasks\n",
        "delay_times = numpy.random.rand(4)"
      ]
    },
    {
      "cell_type": "markdown",
      "metadata": {
        "id": "Pdm3lyLyb2WS"
      },
      "source": [
        "Now, to map the function `dummy_task` to the random delay time data, we use the `map` method in `dummy_task`:"
      ]
    },
    {
      "cell_type": "code",
      "execution_count": null,
      "metadata": {
        "id": "scc8qh3Hb2WS"
      },
      "outputs": [],
      "source": [
        "dummy_task.map(delay_times)"
      ]
    },
    {
      "cell_type": "markdown",
      "metadata": {
        "id": "auTOS-Y3b2WS"
      },
      "source": [
        "Let's do the same thing again with many more tasks and visualize how these tasks are executed on different IPython engines:"
      ]
    },
    {
      "cell_type": "code",
      "execution_count": null,
      "metadata": {
        "id": "klQ1aJ_Mb2WS"
      },
      "outputs": [],
      "source": [
        "def visualize_tasks(results):\n",
        "    res = numpy.array(results)\n",
        "    fig, ax = plt.subplots(figsize=(10, res.shape[1]))\n",
        "\n",
        "    yticks = []\n",
        "    yticklabels = []\n",
        "    tmin = min(res[:,1])\n",
        "    for n, pid in enumerate(numpy.unique(res[:,0])):\n",
        "        yticks.append(n)\n",
        "        yticklabels.append(\"%d\" % pid)\n",
        "        for m in numpy.where(res[:,0] == pid)[0]:\n",
        "            ax.add_patch(plt.Rectangle((res[m,1] - tmin, n-0.25),\n",
        "                         res[m,2] - res[m,1], 0.5, color=\"green\", alpha=0.5))\n",
        "\n",
        "    ax.set_ylim(-.5, n+.5)\n",
        "    ax.set_xlim(0, max(res[:,2]) - tmin + 0.)\n",
        "    ax.set_yticks(yticks)\n",
        "    ax.set_yticklabels(yticklabels)\n",
        "    ax.set_ylabel(\"PID\")\n",
        "    ax.set_xlabel(\"seconds\")"
      ]
    },
    {
      "cell_type": "code",
      "execution_count": null,
      "metadata": {
        "id": "616Ip_CFb2WT"
      },
      "outputs": [],
      "source": [
        "delay_times = numpy.random.rand(64)"
      ]
    },
    {
      "cell_type": "code",
      "execution_count": null,
      "metadata": {
        "id": "ZccLApSPb2WT",
        "outputId": "d5c4fcb1-dbf6-4147-926c-4137b177096d"
      },
      "outputs": [
        {
          "data": {
            "image/png": "[encoded data removed]",
            "text/plain": [
              "<Figure size 1000x300 with 1 Axes>"
            ]
          },
          "metadata": {},
          "output_type": "display_data"
        }
      ],
      "source": [
        "result = dummy_task.map(delay_times)\n",
        "visualize_tasks(result)"
      ]
    },
    {
      "cell_type": "markdown",
      "metadata": {
        "id": "uxa0NSCjb2WT"
      },
      "source": [
        "That's a nice and easy parallelization! We can see that we utilize all four engines quite well.\n",
        "\n",
        "But one short coming so far is that the tasks are not load balanced, so one engine might be idle while others still have more tasks to work on.\n",
        "\n",
        "However, the IPython parallel environment provides a number of alternative \"views\" of the engine cluster, and there is a view that provides load balancing as well (above we have used the \"direct view\", which is why we called it \"dview\").\n",
        "\n",
        "To obtain a load balanced view we simply use the `load_balanced_view` method in the engine cluster client instance `cli`:"
      ]
    },
    {
      "cell_type": "code",
      "execution_count": null,
      "metadata": {
        "id": "MHjbJiAQb2WT"
      },
      "outputs": [],
      "source": [
        "lbview = rc.load_balanced_view()"
      ]
    },
    {
      "cell_type": "code",
      "execution_count": null,
      "metadata": {
        "id": "Pdbqgv30b2WT"
      },
      "outputs": [],
      "source": [
        "@lbview.parallel(block=True)\n",
        "def dummy_task_load_balanced(delay):\n",
        "    \"\"\" a dummy task that takes 'delay' seconds to finish \"\"\"\n",
        "    import os, time\n",
        "\n",
        "    t0 = time.time()\n",
        "    pid = os.getpid()\n",
        "    time.sleep(delay)\n",
        "    t1 = time.time()\n",
        "\n",
        "    return [pid, t0, t1]"
      ]
    },
    {
      "cell_type": "code",
      "execution_count": null,
      "metadata": {
        "id": "57IRbnmUb2WT",
        "outputId": "2c6af020-1dd7-4b9b-8147-d8e213a43ba4"
      },
      "outputs": [
        {
          "data": {
            "image/png": "[encoded data removed]",
            "text/plain": [
              "<Figure size 1000x300 with 1 Axes>"
            ]
          },
          "metadata": {},
          "output_type": "display_data"
        }
      ],
      "source": [
        "result = dummy_task_load_balanced.map(delay_times) # maps the tasks to the generated delay times\n",
        "visualize_tasks(result)"
      ]
    },
    {
      "cell_type": "markdown",
      "metadata": {
        "id": "2p6gCLvKb2WT"
      },
      "source": [
        "In the example above we can see that the engine cluster is a bit more efficiently used, and the time to completion is shorter than in the previous example."
      ]
    },
    {
      "cell_type": "markdown",
      "metadata": {
        "id": "0y4L_NWzu_Vx"
      },
      "source": [
        "### Exercises"
      ]
    },
    {
      "cell_type": "markdown",
      "metadata": {
        "id": "54hLxeswu_Vx"
      },
      "source": [
        "Taking from the above, we've created a template for you to create a task and visualize the timings. In fact, you can duplicate the code and compare the distribution of tasks with and without load balancing.\n",
        "\n",
        "Potential exercises:\n",
        "- summation of varying amounts of numbers\n",
        "- calculate if a random number is prime (widen the range for effect)\n",
        "- calculate the GCD of various numbers with the Euclidean algorithm\n"
      ]
    },
    {
      "cell_type": "code",
      "execution_count": null,
      "metadata": {
        "id": "7idryjQ7u_Vx"
      },
      "outputs": [],
      "source": [
        "@lbview.parallel(block=True)\n",
        "def task_lb(delay):\n",
        "    import time, os\n",
        "\n",
        "    t0 = time.time()\n",
        "    # implement something you'd like to measure the time of\n",
        "    pid = os.getpid()\n",
        "    t1 = time.time()\n",
        "\n",
        "    return [pid, t0, t1]"
      ]
    },
    {
      "cell_type": "code",
      "execution_count": null,
      "metadata": {
        "id": "RUENL5Xzu_Vx"
      },
      "outputs": [],
      "source": [
        "@dview.parallel(block=True)\n",
        "def task(delay):\n",
        "    import time, os\n",
        "\n",
        "    t0 = time.time()\n",
        "    # implement something you'd like to measure the time of\n",
        "    pid = os.getpid()\n",
        "    t1 = time.time()\n",
        "\n",
        "    return [pid, t0, t1]"
      ]
    },
    {
      "cell_type": "code",
      "execution_count": null,
      "metadata": {
        "id": "yctZjYzNu_Vx",
        "outputId": "07d9d6d4-a806-46fe-e467-76abe22d4ca2"
      },
      "outputs": [
        {
          "data": {
            "image/png": "[encoded data removed]",
            "text/plain": [
              "<Figure size 1000x300 with 1 Axes>"
            ]
          },
          "metadata": {},
          "output_type": "display_data"
        }
      ],
      "source": [
        "result = task.map(delay_times)\n",
        "visualize_tasks(result)"
      ]
    },
    {
      "cell_type": "code",
      "execution_count": null,
      "metadata": {
        "id": "fh0NYprHu_Vy",
        "outputId": "3350ed3b-ed0c-4b15-ed45-7d1693ccf970"
      },
      "outputs": [
        {
          "data": {
            "image/png": "[encoded data removed]",
            "text/plain": [
              "<Figure size 1000x300 with 1 Axes>"
            ]
          },
          "metadata": {},
          "output_type": "display_data"
        }
      ],
      "source": [
        "result = task_lb.map(delay_times)\n",
        "visualize_tasks(result)"
      ]
    },
    {
      "cell_type": "markdown",
      "metadata": {
        "id": "OpWJM_5mb2WX"
      },
      "source": [
        "## MPI"
      ]
    },
    {
      "cell_type": "code",
      "execution_count": null,
      "metadata": {
        "id": "Y7zYGEHsu_Vy"
      },
      "outputs": [],
      "source": [
        "# run if you get an error saying mpi4py can't be found\n",
        "!pip install mpi4py"
      ]
    },
    {
      "cell_type": "markdown",
      "metadata": {
        "id": "8XWZBVmwb2WX"
      },
      "source": [
        "When more communication between processes is required, sophisticated solutions such as MPI and OpenMP are often needed. MPI is process based parallel processing library/protocol, and can be used in Python programs through the `mpi4py` package:\n",
        "\n",
        "http://mpi4py.scipy.org/\n",
        "\n",
        "To use the `mpi4py` package we include `MPI` from `mpi4py`:\n",
        "\n",
        "    from mpi4py import MPI\n",
        "\n",
        "A MPI python program must be started using the `mpiexec -n N` command, where `N` is the number of processes that should be included in the process group.\n",
        "\n",
        "Note that the IPython parallel enviroment also has support for MPI, but to begin with we will use `mpi4py` and the `mpiexec` in the follow examples."
      ]
    },
    {
      "cell_type": "markdown",
      "metadata": {
        "id": "5mys7as_b2WX"
      },
      "source": [
        "### Example 1"
      ]
    },
    {
      "cell_type": "code",
      "execution_count": null,
      "metadata": {
        "id": "0txMtVMVb2WY"
      },
      "outputs": [],
      "source": [
        "%%file mpitest.py\n",
        "\n",
        "from mpi4py import MPI\n",
        "\n",
        "comm = MPI.COMM_WORLD\n",
        "rank = comm.Get_rank()\n",
        "\n",
        "if rank == 0:\n",
        "   data = [1.0, 2.0, 3.0, 4.0]\n",
        "   comm.send(data, dest=1, tag=11)\n",
        "elif rank == 1:\n",
        "   data = comm.recv(source=0, tag=11)\n",
        "\n",
        "print(\"rank: %d, data: %s\" % (rank, data))"
      ]
    },
    {
      "cell_type": "code",
      "execution_count": null,
      "metadata": {
        "id": "dLqzrjp8b2WY"
      },
      "outputs": [],
      "source": [
        "!mpiexec -n 2 python mpitest.py"
      ]
    },
    {
      "cell_type": "markdown",
      "metadata": {
        "id": "y_q0fQrBb2WY"
      },
      "source": [
        "### Example 2"
      ]
    },
    {
      "cell_type": "markdown",
      "metadata": {
        "id": "xEFVlshbb2WY"
      },
      "source": [
        "Send a numpy array from one process to another:"
      ]
    },
    {
      "cell_type": "code",
      "execution_count": null,
      "metadata": {
        "id": "UFK1cuvQb2WY",
        "outputId": "194ea535-a13f-42df-998f-4acaf28e7255"
      },
      "outputs": [
        {
          "name": "stdout",
          "output_type": "stream",
          "text": [
            "Overwriting mpi-numpy-array.py\n"
          ]
        }
      ],
      "source": [
        "%%file mpi-numpy-array.py\n",
        "\n",
        "from mpi4py import MPI\n",
        "import numpy\n",
        "\n",
        "comm = MPI.COMM_WORLD\n",
        "rank = comm.Get_rank()\n",
        "\n",
        "if rank == 0:\n",
        "   data = numpy.random.rand(10)\n",
        "   comm.Send(data, dest=1, tag=13)\n",
        "elif rank == 1:\n",
        "   data = numpy.empty(10, dtype=numpy.float64)\n",
        "   comm.Recv(data, source=0, tag=13)\n",
        "\n",
        "print(\"rank: %d, data: %s\" % (rank, data))"
      ]
    },
    {
      "cell_type": "code",
      "execution_count": null,
      "metadata": {
        "id": "qXtXqABUb2WY"
      },
      "outputs": [],
      "source": [
        "!mpiexec -n 2 python mpi-numpy-array.py"
      ]
    },
    {
      "cell_type": "code",
      "execution_count": null,
      "metadata": {
        "id": "6hIKx3i7b2WZ"
      },
      "outputs": [],
      "source": [
        "# prepare some random data\n",
        "N = 16\n",
        "A = numpy.random.rand(N, N)\n",
        "numpy.save(\"random-matrix.npy\", A)\n",
        "x = numpy.random.rand(N)\n",
        "numpy.save(\"random-vector.npy\", x)"
      ]
    },
    {
      "cell_type": "code",
      "execution_count": null,
      "metadata": {
        "id": "9IjHeVNPb2WZ",
        "outputId": "388fb51f-1916-4661-9f55-6168766a87fd"
      },
      "outputs": [
        {
          "name": "stdout",
          "output_type": "stream",
          "text": [
            "Overwriting mpi-matrix-vector.py\n"
          ]
        }
      ],
      "source": [
        "%%file mpi-matrix-vector.py\n",
        "\n",
        "from mpi4py import MPI\n",
        "import numpy\n",
        "\n",
        "comm = MPI.COMM_WORLD\n",
        "rank = comm.Get_rank()\n",
        "p = comm.Get_size()\n",
        "\n",
        "def matvec(comm, A, x):\n",
        "    m = int(A.shape[0] / p)\n",
        "    y_part = numpy.dot(A[rank * m:(rank+1)*m], x)\n",
        "    y = numpy.zeros_like(x)\n",
        "    comm.Allgather([y_part,  MPI.DOUBLE], [y, MPI.DOUBLE])\n",
        "    return y\n",
        "\n",
        "A = numpy.load(\"random-matrix.npy\")\n",
        "x = numpy.load(\"random-vector.npy\")\n",
        "y_mpi = matvec(comm, A, x)\n",
        "\n",
        "if rank == 0:\n",
        "    y = numpy.dot(A, x)\n",
        "    print(y_mpi)\n",
        "    print(\"sum(y - y_mpi) = %d\" % ((y - y_mpi).sum()))"
      ]
    },
    {
      "cell_type": "code",
      "execution_count": null,
      "metadata": {
        "id": "rv5-3HEsb2WZ"
      },
      "outputs": [],
      "source": [
        "!mpiexec -n 4 python mpi-matrix-vector.py"
      ]
    },
    {
      "cell_type": "markdown",
      "metadata": {
        "id": "ai0sJTrab2WZ"
      },
      "source": [
        "### Example 4: Sum of the elements in a vector"
      ]
    },
    {
      "cell_type": "code",
      "execution_count": null,
      "metadata": {
        "id": "6Yze1DC2b2WZ"
      },
      "outputs": [],
      "source": [
        "# prepare some random data\n",
        "N = 128\n",
        "a = numpy.random.rand(N)\n",
        "numpy.save(\"random-vector.npy\", a)"
      ]
    },
    {
      "cell_type": "code",
      "execution_count": null,
      "metadata": {
        "id": "5K_hq0Snb2Wa",
        "outputId": "c43cf36e-1218-485c-c0d9-f8630b710d45"
      },
      "outputs": [
        {
          "name": "stdout",
          "output_type": "stream",
          "text": [
            "Overwriting mpi-psum.py\n"
          ]
        }
      ],
      "source": [
        "%%file mpi-psum.py\n",
        "\n",
        "from mpi4py import MPI\n",
        "import numpy as np\n",
        "\n",
        "def psum(a):\n",
        "    r = MPI.COMM_WORLD.Get_rank()\n",
        "    size = MPI.COMM_WORLD.Get_size()\n",
        "    m = int(len(a) / size)\n",
        "    locsum = np.sum(a[r*m:(r+1)*m])\n",
        "    rcvBuf = np.array(0.0, 'd')\n",
        "    MPI.COMM_WORLD.Allreduce([locsum, MPI.DOUBLE], [rcvBuf, MPI.DOUBLE], op=MPI.SUM)\n",
        "    return rcvBuf\n",
        "\n",
        "a = np.load(\"random-vector.npy\")\n",
        "s = psum(a)\n",
        "\n",
        "if MPI.COMM_WORLD.Get_rank() == 0:\n",
        "    print(\"sum = %d, numpy sum = %d\" % (s, a.sum()))"
      ]
    },
    {
      "cell_type": "code",
      "execution_count": null,
      "metadata": {
        "id": "WVKtOfPCb2Wa",
        "outputId": "cfa3046c-1881-4859-8add-fea7bad7a99f"
      },
      "outputs": [
        {
          "name": "stdout",
          "output_type": "stream",
          "text": [
            "sum = 61, numpy sum = 61\n"
          ]
        }
      ],
      "source": [
        "!mpiexec -n 4 python mpi-psum.py"
      ]
    },
    {
      "cell_type": "markdown",
      "metadata": {
        "id": "CQwMgNb5b2Wa"
      },
      "source": [
        "### Further reading"
      ]
    },
    {
      "cell_type": "markdown",
      "metadata": {
        "id": "xSTFUk10b2Wa"
      },
      "source": [
        "* https://mpi4py.readthedocs.io/en/stable/\n",
        "\n",
        "* https://github.com/mpi4py/mpi4py\n",
        "\n",
        "* https://computing.llnl.gov/tutorials/mpi/"
      ]
    },
    {
      "cell_type": "markdown",
      "metadata": {
        "id": "ZH6RFZEau_V0"
      },
      "source": [
        "### Exercises"
      ]
    },
    {
      "cell_type": "markdown",
      "metadata": {
        "id": "Lf713OJru_V0"
      },
      "source": [
        "#### In-house Broadcast\n",
        "\n",
        "In the above examples you saw MPI send and receive functions being used to send data from one processor to another. Let's extend that and create your own implementation of the broadcast function. When a processor broadcasts, it sends a piece of data for every other processor to receive.\n",
        "\n",
        "[Broadcast](https://rookiehpc.org/mpi/docs/mpi_bcast/index.html) is unlike send and receive as it is a collective operation, which means that every processor takes part. That is to say, for this to work, every processor must call the same function. With broadcast, one of these processors will denote itself as the sender, and the rest will be receivers.\n",
        "\n",
        "For this exercise we will keep it more simple and assume every processor will be included in the broadcast ([communicators](https://mpitutorial.com/tutorials/introduction-to-groups-and-communicators/)). The item passed in will always be a single item (so no arrays should be passed in).\n",
        "\n",
        "For reference, here is bcast in action:"
      ]
    },
    {
      "cell_type": "code",
      "execution_count": null,
      "metadata": {
        "id": "F1PE49-iu_V1",
        "outputId": "3250494e-df35-4386-c13d-a33312a9c76f"
      },
      "outputs": [
        {
          "name": "stdout",
          "output_type": "stream",
          "text": [
            "Overwriting mpi-bcast-ex.py\n"
          ]
        }
      ],
      "source": [
        "%%file mpi-bcast-ex.py\n",
        "# the above function creates a file from this cell for later executions\n",
        "\n",
        "from mpi4py import MPI\n",
        "\n",
        "comm = MPI.COMM_WORLD\n",
        "rank = comm.rank\n",
        "\n",
        "if rank == 0:\n",
        "    data = {'a':1,'b':2,'c':3}\n",
        "else:\n",
        "    data = None\n",
        "\n",
        "data = comm.bcast(data, root=0)\n",
        "print('rank: %d, data: %s' % (rank , data))\n",
        "\n",
        "# source: https://pythonprogramming.net/mpi-broadcast-tutorial-mpi4py/"
      ]
    },
    {
      "cell_type": "code",
      "execution_count": null,
      "metadata": {
        "id": "kaXJzsjlu_V1"
      },
      "outputs": [],
      "source": [
        "!mpiexec -n 4 python mpi-bcast-ex.py"
      ]
    },
    {
      "cell_type": "markdown",
      "metadata": {
        "id": "pPwh0d8eu_V1"
      },
      "source": [
        "Here is some template code to start off with.\n",
        "\n",
        "Some things to consider as you create your own broadcast:\n",
        "\n",
        "- How do you plan on getting the message to every other rank?\n",
        "\n",
        "- How will you ensure the right send gets to the right receive(in this case, it shouldn't matter, but this is good practice)?\n",
        "\n",
        "- The root doesn't have to be the only rank sending messages."
      ]
    },
    {
      "cell_type": "code",
      "execution_count": null,
      "metadata": {
        "id": "XLevmJiWu_V1",
        "outputId": "25114ca5-766b-4417-8308-9b9814307343"
      },
      "outputs": [
        {
          "name": "stdout",
          "output_type": "stream",
          "text": [
            "Overwriting mpi-bcast-exercise.py\n"
          ]
        }
      ],
      "source": [
        "%%file mpi-bcast-exercise.py\n",
        "\n",
        "import numpy\n",
        "from mpi4py import MPI\n",
        "from types import SimpleNamespace # allows you to add attributes to an object dynamically(ie no need to create a whole class template for it)\n",
        "\n",
        "# buffer will be an object with an attribute data that can be accessed as buffer.data\n",
        "buffer_obj = SimpleNamespace()\n",
        "\n",
        "def broadcast(buffer, root):\n",
        "    if root == 0:\n",
        "        return 1\n",
        "    else:\n",
        "        return 0\n",
        "\n",
        "# set up MPI parameters\n",
        "comm = MPI.COMM_WORLD\n",
        "rank = comm.rank\n",
        "size = comm.size\n",
        "\n",
        "# set up data\n",
        "if rank == 0:\n",
        "    buffer_obj.data = numpy.random.rand(4)\n",
        "else:\n",
        "    buffer_obj.data = numpy.empty(4, dtype=numpy.float64)\n",
        "\n",
        "print('Before: rank: %d, data: %s' % (rank, buffer_obj.data))\n",
        "broadcast(buffer_obj, rank)\n",
        "print('After: rank: %d, data: %s' % (rank, buffer_obj.data))"
      ]
    },
    {
      "cell_type": "markdown",
      "metadata": {
        "id": "IPycXQn1u_V1"
      },
      "source": [
        "Test out your program here. If you have any errors, let us know, or check out the [documentation](https://mpi4py.readthedocs.io/en/stable/)."
      ]
    },
    {
      "cell_type": "code",
      "execution_count": null,
      "metadata": {
        "id": "2TUX2c_su_V1"
      },
      "outputs": [],
      "source": [
        "!mpiexec -n 4 python mpi-bcast-exercise.py"
      ]
    },
    {
      "cell_type": "markdown",
      "metadata": {
        "id": "mtLTK2n5u_V1"
      },
      "source": [
        "To make the exercise harder, try modifying the broadcast function to pass around multiple objects at once.\n",
        "\n",
        "Further extensions:\n",
        "\n",
        "- Have the root broadcast an array, but have each process only receive a portion of the elements (this is a scatter).\n",
        "\n",
        "- Do broadcast, but each round double the processors send out the message.\n",
        "\n",
        "- Implement other collective primatives (gather, reduce)"
      ]
    },
    {
      "cell_type": "markdown",
      "metadata": {
        "id": "sYMSqkPZu_V1"
      },
      "source": [
        "#### Hot Potato"
      ]
    },
    {
      "cell_type": "markdown",
      "metadata": {
        "id": "0qKp923uu_V1"
      },
      "source": [
        "Taking the same template as before, we're going to create a program that plays hot potato, where a processor will have a special value, and it must be passed around one processor at a time.\n",
        "\n",
        "This may require you to look into [non-blocking](https://stackoverflow.com/questions/10017301/mpi-blocking-vs-non-blocking) versions of send and receive. If you have any questions about this, feel free to reach out to one of us or the Discord."
      ]
    },
    {
      "cell_type": "code",
      "execution_count": null,
      "metadata": {
        "id": "GWOfYdWuu_V1"
      },
      "outputs": [],
      "source": [
        "%%file mpi-hot-potato-exercise.py\n",
        "\n",
        "import numpy\n",
        "from mpi4py import MPI\n",
        "from types import SimpleNamespace\n",
        "\n",
        "buffer_obj = SimpleNamespace()\n",
        "\n",
        "def hot_potato(buffer, direction):\n",
        "    # In hot potato, you will at some point receive the potato, and then you must pass it.\n",
        "    # For the sake of simplicity, every processor will receive a value and pass it, this method will simulate one round of passing\n",
        "    # the edge processors (0 and size - 1) will pass to each other, depending on which direction you choose to implement hot potato\n",
        "    # ex: 0 -> 1 -> 2 -> 3 -> 4 -> 0 --- example of wraparound\n",
        "\n",
        "    # The direction parameter is an extension of this exercise where you will have to enable hot potato to go in both directions\n",
        "\n",
        "# set up MPI parameters\n",
        "comm = MPI.COMM_WORLD\n",
        "rank = comm.rank\n",
        "size = comm.size\n",
        "rounds = 12\n",
        "\n",
        "# set up data\n",
        "if rank == 0:\n",
        "    buffer_obj.data = numpy.random.rand(1)\n",
        "else:\n",
        "    buffer_obj.data = numpy.empty(1, dtype=numpy.float64)\n",
        "\n",
        "print('Before: rank: %d, data: %s' % (rank, buffer_obj.data))\n",
        "\n",
        "for i in range(rounds):\n",
        "    hot_potato(buffer_obj, rank)\n",
        "\n",
        "print('After: rank: %d, data: %s' % (rank, buffer_obj.data))"
      ]
    },
    {
      "cell_type": "code",
      "execution_count": null,
      "metadata": {
        "id": "tSn8U7Vpu_V1"
      },
      "outputs": [],
      "source": [
        "!mpiexec --oversubscribe -n 12 python mpi-hot-potato-exercise.py"
      ]
    },
    {
      "cell_type": "markdown",
      "metadata": {
        "id": "QWf4vu-Db2Wa"
      },
      "source": [
        "## OpenMP"
      ]
    },
    {
      "cell_type": "markdown",
      "metadata": {
        "id": "IEE9av2Rb2Wa"
      },
      "source": [
        "What about OpenMP? OpenMP is a standard and widely used thread-based parallel API that unfortunaltely is **not** useful directly in Python. The reason is that the CPython implementation use a global interpreter lock, making it impossible to simultaneously run several Python threads. Threads are therefore not useful for parallel computing in Python, unless it is only used to wrap compiled code that do the OpenMP parallelization (Numpy can do something like that).\n",
        "\n",
        "This is clearly a limitation in the Python interpreter, and as a consequence all parallelization in Python must use processes (not threads).\n",
        "\n",
        "However, there is a way around this that is not that painful. When calling out to compiled code the GIL is released, and it is possible to write Python-like code in Cython where we can selectively release the GIL and do OpenMP computations."
      ]
    },
    {
      "cell_type": "code",
      "execution_count": null,
      "metadata": {
        "id": "-vcDDkUQu_V1"
      },
      "outputs": [],
      "source": [
        "import multiprocessing"
      ]
    },
    {
      "cell_type": "code",
      "execution_count": null,
      "metadata": {
        "id": "uEXndJsHb2Wa",
        "outputId": "ddfc8715-163d-484d-d195-dffaa29d9591"
      },
      "outputs": [
        {
          "name": "stdout",
          "output_type": "stream",
          "text": [
            "This system has 12 cores\n"
          ]
        }
      ],
      "source": [
        "N_core = multiprocessing.cpu_count()\n",
        "\n",
        "print(\"This system has %d cores\" % N_core)"
      ]
    },
    {
      "cell_type": "markdown",
      "metadata": {
        "id": "aOtj0DWEb2Wb"
      },
      "source": [
        "Here is a simple example that shows how OpenMP can be used via cython:"
      ]
    },
    {
      "cell_type": "code",
      "execution_count": null,
      "metadata": {
        "id": "tjHhumgOb2Wb"
      },
      "outputs": [],
      "source": [
        "%load_ext Cython"
      ]
    },
    {
      "cell_type": "code",
      "execution_count": null,
      "metadata": {
        "id": "svwbQQb6b2Wb"
      },
      "outputs": [],
      "source": [
        "%%cython -f -c-fopenmp --link-args=-fopenmp -c-g\n",
        "\n",
        "# %%cython -f -c \"/openmp\" <- for if you are running this notebook locally on a Windows machine\n",
        "\n",
        "cimport cython\n",
        "cimport numpy\n",
        "from cython.parallel import prange, parallel\n",
        "cimport openmp\n",
        "\n",
        "def cy_openmp_test():\n",
        "\n",
        "    cdef int n, N\n",
        "\n",
        "    # release GIL so that we can use OpenMP\n",
        "    with nogil, parallel():\n",
        "        N = openmp.omp_get_num_threads()\n",
        "        n = openmp.omp_get_thread_num()\n",
        "        with gil:\n",
        "            print(\"Number of threads %d: thread number %d\" % (N, n))"
      ]
    },
    {
      "cell_type": "code",
      "execution_count": null,
      "metadata": {
        "id": "CKmulDbPb2Wb"
      },
      "outputs": [],
      "source": [
        "cy_openmp_test()"
      ]
    },
    {
      "cell_type": "markdown",
      "metadata": {
        "id": "Sf_qYfLUb2Wd"
      },
      "source": [
        "### Example: matrix vector multiplication"
      ]
    },
    {
      "cell_type": "code",
      "execution_count": null,
      "metadata": {
        "id": "_HIpa8elb2Wd"
      },
      "outputs": [],
      "source": [
        "# prepare some random data\n",
        "N = 4 * N_core\n",
        "\n",
        "M = numpy.random.rand(N, N)\n",
        "x = numpy.random.rand(N)\n",
        "y = numpy.zeros_like(x)"
      ]
    },
    {
      "cell_type": "markdown",
      "metadata": {
        "id": "lWaB7b08b2Wd"
      },
      "source": [
        "Let's first look at a simple implementation of matrix-vector multiplication in Cython:"
      ]
    },
    {
      "cell_type": "code",
      "execution_count": null,
      "metadata": {
        "id": "K89cn-lzb2Wd"
      },
      "outputs": [],
      "source": [
        "%%cython\n",
        "\n",
        "cimport cython\n",
        "cimport numpy\n",
        "import numpy\n",
        "\n",
        "@cython.boundscheck(False)\n",
        "@cython.wraparound(False)\n",
        "def cy_matvec(numpy.ndarray[numpy.float64_t, ndim=2] M,\n",
        "              numpy.ndarray[numpy.float64_t, ndim=1] x,\n",
        "              numpy.ndarray[numpy.float64_t, ndim=1] y):\n",
        "\n",
        "    cdef int i, j, n = len(x)\n",
        "\n",
        "    for i from 0 <= i < n:\n",
        "        for j from 0 <= j < n:\n",
        "            y[i] += M[i, j] * x[j]\n",
        "\n",
        "    return y"
      ]
    },
    {
      "cell_type": "code",
      "execution_count": null,
      "metadata": {
        "id": "81nVb03lb2We"
      },
      "outputs": [],
      "source": [
        "# check that we get the same results\n",
        "y = numpy.zeros_like(x)\n",
        "cy_matvec(M, x, y)\n",
        "numpy.dot(M, x) - y"
      ]
    },
    {
      "cell_type": "code",
      "execution_count": null,
      "metadata": {
        "id": "eSXwbRzQb2We",
        "outputId": "f86fab4d-545f-421b-ff2d-95e776fda1fb"
      },
      "outputs": [
        {
          "name": "stdout",
          "output_type": "stream",
          "text": [
            "1.78 µs ± 283 ns per loop (mean ± std. dev. of 7 runs, 100,000 loops each)\n"
          ]
        }
      ],
      "source": [
        "%timeit numpy.dot(M, x)"
      ]
    },
    {
      "cell_type": "code",
      "execution_count": null,
      "metadata": {
        "id": "s7NHyHm_b2We",
        "outputId": "a628b94a-0d14-42a6-a050-72a63b3ecc15"
      },
      "outputs": [
        {
          "name": "stdout",
          "output_type": "stream",
          "text": [
            "11.3 µs ± 1.43 µs per loop (mean ± std. dev. of 7 runs, 100,000 loops each)\n"
          ]
        }
      ],
      "source": [
        "%timeit cy_matvec(M, x, y)"
      ]
    },
    {
      "cell_type": "markdown",
      "metadata": {
        "id": "qcytWs7eb2We"
      },
      "source": [
        "The Cython implementation here is a bit slower than numpy.dot, but not by much, so if we can use multiple cores with OpenMP it should be possible to beat the performance of numpy.dot."
      ]
    },
    {
      "cell_type": "code",
      "execution_count": null,
      "metadata": {
        "id": "9DALeKMZb2We"
      },
      "outputs": [],
      "source": [
        "%%cython -f -c-fopenmp --link-args=-fopenmp -c-g\n",
        "\n",
        "cimport cython\n",
        "cimport numpy\n",
        "from cython.parallel import parallel\n",
        "cimport openmp\n",
        "\n",
        "@cython.boundscheck(False)\n",
        "@cython.wraparound(False)\n",
        "def cy_matvec_omp(numpy.ndarray[numpy.float64_t, ndim=2] M,\n",
        "                  numpy.ndarray[numpy.float64_t, ndim=1] x,\n",
        "                  numpy.ndarray[numpy.float64_t, ndim=1] y):\n",
        "\n",
        "    cdef int i, j, n = len(x), N, r, m\n",
        "\n",
        "    # release GIL, so that we can use OpenMP\n",
        "    with nogil, parallel():\n",
        "        N = openmp.omp_get_num_threads()\n",
        "        r = openmp.omp_get_thread_num()\n",
        "        m = int(n / N)\n",
        "\n",
        "        for i from 0 <= i < m:\n",
        "            for j from 0 <= j < n:\n",
        "                y[r * m + i] += M[r * m + i, j] * x[j]\n",
        "\n",
        "    return y"
      ]
    },
    {
      "cell_type": "code",
      "execution_count": null,
      "metadata": {
        "id": "TUS9doi7b2Wf"
      },
      "outputs": [],
      "source": [
        "# check that we get the same results\n",
        "y = numpy.zeros_like(x)\n",
        "cy_matvec_omp(M, x, y)\n",
        "numpy.dot(M, x) - y"
      ]
    },
    {
      "cell_type": "code",
      "execution_count": null,
      "metadata": {
        "id": "Cpy5FPjKb2Wf",
        "outputId": "c116826f-9ba0-402d-e705-6365ced91eca"
      },
      "outputs": [
        {
          "name": "stdout",
          "output_type": "stream",
          "text": [
            "1.64 µs ± 302 ns per loop (mean ± std. dev. of 7 runs, 100,000 loops each)\n"
          ]
        }
      ],
      "source": [
        "%timeit numpy.dot(M, x)"
      ]
    },
    {
      "cell_type": "code",
      "execution_count": null,
      "metadata": {
        "id": "D145QRRGb2Wf",
        "outputId": "39a5c426-88fe-4451-8235-deaf1210599e"
      },
      "outputs": [
        {
          "name": "stdout",
          "output_type": "stream",
          "text": [
            "147 µs ± 34 µs per loop (mean ± std. dev. of 7 runs, 10,000 loops each)\n"
          ]
        }
      ],
      "source": [
        "%timeit cy_matvec_omp(M, x, y)"
      ]
    },
    {
      "cell_type": "markdown",
      "metadata": {
        "id": "eIIUuJuGb2Wf"
      },
      "source": [
        "Now, this implementation is much slower than numpy.dot for this problem size, because of overhead associated with OpenMP and threading, etc. But let's look at the how the different implementations compare with larger matrix sizes:"
      ]
    },
    {
      "cell_type": "code",
      "execution_count": null,
      "metadata": {
        "id": "ZW9I5uTAb2Wf"
      },
      "outputs": [],
      "source": [
        "N_vec  = numpy.arange(25, 2000, 25) * N_core"
      ]
    },
    {
      "cell_type": "code",
      "execution_count": null,
      "metadata": {
        "id": "PyYSF4eXb2Wg"
      },
      "outputs": [],
      "source": [
        "duration_ref = numpy.zeros(len(N_vec))\n",
        "duration_cy = numpy.zeros(len(N_vec))\n",
        "duration_cy_omp = numpy.zeros(len(N_vec))\n",
        "\n",
        "for idx, N in enumerate(N_vec):\n",
        "\n",
        "    M = numpy.random.rand(N, N)\n",
        "    x = numpy.random.rand(N)\n",
        "    y = numpy.zeros_like(x)\n",
        "\n",
        "    t0 = time.time()\n",
        "    numpy.dot(M, x)\n",
        "    duration_ref[idx] = time.time() - t0\n",
        "\n",
        "    t0 = time.time()\n",
        "    cy_matvec(M, x, y)\n",
        "    duration_cy[idx] = time.time() - t0\n",
        "\n",
        "    t0 = time.time()\n",
        "    cy_matvec_omp(M, x, y)\n",
        "    duration_cy_omp[idx] = time.time() - t0"
      ]
    },
    {
      "cell_type": "code",
      "execution_count": null,
      "metadata": {
        "id": "7UpQB7N6b2Wg",
        "outputId": "d5a8192b-0d42-410b-d441-013c02b5bc59"
      },
      "outputs": [
        {
          "data": {
            "image/png": "[encoded data removed]",
            "text/plain": [
              "<matplotlib.figure.Figure at 0x7f7ad90badd0>"
            ]
          },
          "metadata": {},
          "output_type": "display_data"
        }
      ],
      "source": [
        "fig, ax = plt.subplots(figsize=(12, 6))\n",
        "\n",
        "ax.loglog(N_vec, duration_ref, label='numpy')\n",
        "ax.loglog(N_vec, duration_cy, label='cython')\n",
        "ax.loglog(N_vec, duration_cy_omp, label='cython+openmp')\n",
        "\n",
        "ax.legend(loc=2)\n",
        "ax.set_yscale(\"log\")\n",
        "ax.set_ylabel(\"matrix-vector multiplication duration\")\n",
        "ax.set_xlabel(\"matrix size\");"
      ]
    },
    {
      "cell_type": "markdown",
      "metadata": {
        "id": "_0qYkB3Tb2Wg"
      },
      "source": [
        "For large problem sizes the the cython+OpenMP implementation is faster than numpy.dot."
      ]
    },
    {
      "cell_type": "markdown",
      "metadata": {
        "id": "yOfRwD8ob2Wg"
      },
      "source": [
        "With this simple implementation, the speedup for large problem sizes is about:"
      ]
    },
    {
      "cell_type": "code",
      "execution_count": null,
      "metadata": {
        "id": "Y079eknfb2Wg",
        "outputId": "476a8204-c1ff-49d6-ba7c-d4078361e784"
      },
      "outputs": [
        {
          "data": {
            "text/plain": [
              "3.0072232987815148"
            ]
          },
          "execution_count": 51,
          "metadata": {},
          "output_type": "execute_result"
        }
      ],
      "source": [
        "((duration_ref / duration_cy_omp)[-10:]).mean()"
      ]
    },
    {
      "cell_type": "markdown",
      "metadata": {
        "id": "mB_iaxYRb2Wg"
      },
      "source": [
        " Obviously one could do a better job with more effort, since the theoretical limit of the speed-up is:"
      ]
    },
    {
      "cell_type": "code",
      "execution_count": null,
      "metadata": {
        "id": "AWip7Rt3b2Wg",
        "outputId": "202c8c53-84fd-4503-faea-b72762970aaa"
      },
      "outputs": [
        {
          "data": {
            "text/plain": [
              "12"
            ]
          },
          "execution_count": 52,
          "metadata": {},
          "output_type": "execute_result"
        }
      ],
      "source": [
        "N_core"
      ]
    },
    {
      "cell_type": "markdown",
      "metadata": {
        "id": "beuaVOugb2Wh"
      },
      "source": [
        "### Further reading"
      ]
    },
    {
      "cell_type": "markdown",
      "metadata": {
        "id": "n2N1d7VIb2Wh"
      },
      "source": [
        " * http://openmp.org\n",
        " * http://docs.cython.org/src/userguide/parallelism.html"
      ]
    },
    {
      "cell_type": "markdown",
      "metadata": {
        "id": "WJ-UJSeib2Wh"
      },
      "source": [
        "## OpenCL"
      ]
    },
    {
      "cell_type": "markdown",
      "metadata": {
        "id": "ZVVQoisUb2Wh"
      },
      "source": [
        "OpenCL is an API for heterogenous computing, for example using GPUs for numerical computations. There is a python package called `pyopencl` that allows OpenCL code to be compiled, loaded and executed on the compute units completely from within Python. This is a nice way to work with OpenCL, because the time-consuming computations should be done on the compute units in compiled code, and in this Python only server as a control language."
      ]
    },
    {
      "cell_type": "markdown",
      "metadata": {
        "id": "hS4kxafLu_V3"
      },
      "source": [
        "For this section, ensure the Colab has access to a GPU. Click on the arrow next to the RAM and Disk graphs. Then click \"Change runtime type.\" Then select \"T4 GPU\" as your runtime type and complete the pop up."
      ]
    },
    {
      "cell_type": "code",
      "execution_count": null,
      "metadata": {
        "id": "2FI11oSCb2Wh",
        "outputId": "4c928bf1-e14c-46ea-a120-b0bc3fc0b1f0"
      },
      "outputs": [
        {
          "name": "stdout",
          "output_type": "stream",
          "text": [
            "Overwriting opencl-dense-mv.py\n"
          ]
        }
      ],
      "source": [
        "%%file opencl-dense-mv.py\n",
        "\n",
        "import pyopencl as cl\n",
        "import numpy\n",
        "import time\n",
        "\n",
        "# problem size\n",
        "n = 16000\n",
        "\n",
        "# platform\n",
        "platform_list = cl.get_platforms()\n",
        "platform = platform_list[0]\n",
        "\n",
        "# device\n",
        "device_list = platform.get_devices()\n",
        "device = device_list[0]\n",
        "\n",
        "# Device information\n",
        "if False:\n",
        "    print(\"Platform name:\" + platform.name)\n",
        "    print(\"Platform version:\" + platform.version)\n",
        "    print(\"Device name:\" + device.name)\n",
        "    print(\"Device type:\" + cl.device_type.to_string(device.type))\n",
        "    print(\"Device memory: \" + str(device.global_mem_size//1024//1024) + ' MB')\n",
        "    print(\"Device max clock speed:\" + str(device.max_clock_frequency) + ' MHz')\n",
        "    print(\"Device compute units:\" + str(device.max_compute_units))\n",
        "\n",
        "# context\n",
        "ctx = cl.Context([device]) # or we can use cl.create_some_context()\n",
        "\n",
        "# command queue\n",
        "queue = cl.CommandQueue(ctx)\n",
        "\n",
        "# kernel\n",
        "KERNEL_CODE = \"\"\"\n",
        "//\n",
        "// Matrix-vector multiplication: r = m * v\n",
        "//\n",
        "#define N %(mat_size)d\n",
        "__kernel\n",
        "void dmv_cl(__global float *m, __global float *v, __global float *r)\n",
        "{\n",
        "    int i, gid = get_global_id(0);\n",
        "\n",
        "    r[gid] = 0;\n",
        "    for (i = 0; i < N; i++)\n",
        "    {\n",
        "        r[gid] += m[gid * N + i] * v[i];\n",
        "    }\n",
        "}\n",
        "\"\"\"\n",
        "\n",
        "kernel_params = {\"mat_size\": n}\n",
        "program = cl.Program(ctx, KERNEL_CODE % kernel_params).build()\n",
        "\n",
        "# data\n",
        "A = numpy.random.rand(n, n)\n",
        "x = numpy.random.rand(n, 1)\n",
        "\n",
        "# host buffers\n",
        "h_y = numpy.empty(numpy.shape(x)).astype(numpy.float32)\n",
        "h_A = numpy.real(A).astype(numpy.float32)\n",
        "h_x = numpy.real(x).astype(numpy.float32)\n",
        "\n",
        "# device buffers\n",
        "mf = cl.mem_flags\n",
        "d_A_buf = cl.Buffer(ctx, mf.READ_ONLY | mf.COPY_HOST_PTR, hostbuf=h_A)\n",
        "d_x_buf = cl.Buffer(ctx, mf.READ_ONLY | mf.COPY_HOST_PTR, hostbuf=h_x)\n",
        "d_y_buf = cl.Buffer(ctx, mf.WRITE_ONLY, size=h_y.nbytes)\n",
        "\n",
        "# execute OpenCL code\n",
        "t0 = time.time()\n",
        "event = program.dmv_cl(queue, h_y.shape, None, d_A_buf, d_x_buf, d_y_buf)\n",
        "event.wait()\n",
        "cl.enqueue_copy(queue, h_y, d_y_buf)\n",
        "t1 = time.time()\n",
        "print(\"opencl elapsed time = %f\" % (t1-t0))\n",
        "\n",
        "# Same calculation with numpy\n",
        "t0 = time.time()\n",
        "y = numpy.dot(h_A, h_x)\n",
        "t1 = time.time()\n",
        "\n",
        "print(\"numpy elapsed time = %f\" % (t1-t0))\n",
        "\n",
        "# see if the results are the same\n",
        "print(\"max deviation = %f\" % numpy.abs(y-h_y).max())"
      ]
    },
    {
      "cell_type": "code",
      "execution_count": null,
      "metadata": {
        "id": "sscL1bQCb2Wh"
      },
      "outputs": [],
      "source": [
        "!python opencl-dense-mv.py"
      ]
    },
    {
      "cell_type": "markdown",
      "metadata": {
        "id": "OWYi3CBXb2Wi"
      },
      "source": [
        "### Further reading"
      ]
    },
    {
      "cell_type": "markdown",
      "metadata": {
        "id": "jnJroALib2Wi"
      },
      "source": [
        "* http://mathema.tician.de/software/pyopencl"
      ]
    },
    {
      "cell_type": "markdown",
      "metadata": {
        "id": "QY4ZlJl5b2Wi"
      },
      "source": [
        "## Versions"
      ]
    },
    {
      "cell_type": "code",
      "execution_count": null,
      "metadata": {
        "id": "GBIIsbZeb2Wi",
        "outputId": "fd70ec98-7d01-499b-e01b-fd96ef7f3ce5"
      },
      "outputs": [
        {
          "data": {
            "application/json": {
              "Software versions": [
                {
                  "module": "Python",
                  "version": "3.3.2+ (default, Oct  9 2013, 14:50:09) [GCC 4.8.1]"
                },
                {
                  "module": "IPython",
                  "version": "2.0.0-b1"
                },
                {
                  "module": "OS",
                  "version": "posix [linux]"
                },
                {
                  "module": "numpy",
                  "version": "1.9.0.dev-d4c7c3a"
                },
                {
                  "module": "mpi4py",
                  "version": "1.3.1"
                },
                {
                  "module": "Cython",
                  "version": "0.20.post0"
                }
              ]
            },
            "text/html": [
              "<table><tr><th>Software</th><th>Version</th></tr><tr><td>Python</td><td>3.3.2+ (default, Oct  9 2013, 14:50:09) [GCC 4.8.1]</td></tr><tr><td>IPython</td><td>2.0.0-b1</td></tr><tr><td>OS</td><td>posix [linux]</td></tr><tr><td>numpy</td><td>1.9.0.dev-d4c7c3a</td></tr><tr><td>mpi4py</td><td>1.3.1</td></tr><tr><td>Cython</td><td>0.20.post0</td></tr><tr><td colspan='2'>Mon Mar 17 17:32:10 2014 JST</td></tr></table>"
            ],
            "text/latex": [
              "\\begin{tabular}{|l|l|}\\hline\n",
              "{\\bf Software} & {\\bf Version} \\\\ \\hline\\hline\n",
              "Python & 3.3.2+ (default, Oct  9 2013, 14:50:09) [GCC 4.8.1] \\\\ \\hline\n",
              "IPython & 2.0.0-b1 \\\\ \\hline\n",
              "OS & posix [linux] \\\\ \\hline\n",
              "numpy & 1.9.0.dev-d4c7c3a \\\\ \\hline\n",
              "mpi4py & 1.3.1 \\\\ \\hline\n",
              "Cython & 0.20.post0 \\\\ \\hline\n",
              "\\hline \\multicolumn{2}{|l|}{Mon Mar 17 17:32:10 2014 JST} \\\\ \\hline\n",
              "\\end{tabular}\n"
            ],
            "text/plain": [
              "Software versions\n",
              "Python 3.3.2+ (default, Oct  9 2013, 14:50:09) [GCC 4.8.1]\n",
              "IPython 2.0.0-b1\n",
              "OS posix [linux]\n",
              "numpy 1.9.0.dev-d4c7c3a\n",
              "mpi4py 1.3.1\n",
              "Cython 0.20.post0\n",
              "\n",
              "Mon Mar 17 17:32:10 2014 JST"
            ]
          },
          "execution_count": 55,
          "metadata": {},
          "output_type": "execute_result"
        }
      ],
      "source": [
        "%load_ext version_information\n",
        "\n",
        "%version_information numpy, mpi4py, Cython"
      ]
    }
  ],
  "metadata": {
    "colab": {
      "provenance": []
    },
    "kernelspec": {
      "display_name": "base",
      "language": "python",
      "name": "python3"
    },
    "language_info": {
      "codemirror_mode": {
        "name": "ipython",
        "version": 3
      },
      "file_extension": ".py",
      "mimetype": "text/x-python",
      "name": "python",
      "nbconvert_exporter": "python",
      "pygments_lexer": "ipython3",
      "version": "3.11.5"
    }
  },
  "nbformat": 4,
  "nbformat_minor": 0
}